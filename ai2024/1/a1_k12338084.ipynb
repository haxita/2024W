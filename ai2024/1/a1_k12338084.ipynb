{
 "cells": [
  {
   "cell_type": "markdown",
   "metadata": {},
   "source": [
    "# Artificial Intelligence UE\n",
    "## Assignment 1 - Uninformed Search\n",
    "\n",
    "<div class=\"alert alert-danger\">\n",
    "    <strong>Deadline:</strong> 28.10.2024, 12:00 (noon)\n",
    "</div>\n",
    "\n",
    "In this assignment you are going to implement a few different **uninformed** search algorithms: \n",
    "- Breadth First Search\n",
    "- Uniform Cost Search\n",
    "- Depth First Search\n",
    "- Depth Limited Depth First Search\n",
    "- Iterative Deepening Search\n",
    "\n",
    "The algorithms have been explained in the lecture (VO) and we gave you some additional information in the exercise (UE). Please refer to the lecture slides (VO) for the pseudo algorithms and the exercise slides (UE) for additional hints. \n",
    "Before implementing the algorithms make sure to check out the introductory notebook \"introducing_pig.ipynb\" and read the following instructions carefully.\n",
    "\n",
    "<div class=\"alert alert-warning\">\n",
    "\n",
    "<p><strong>Automatic Grading:</strong></p>\n",
    "<ul>\n",
    "<li>Replace the placeholders <code># YOUR CODE HERE</code>, <code>raise NotImplementedError()</code> with your code.</li>\n",
    "<li>Do not rename any of the already existing variables (this might lead to hidden tests failing / not working).</li>\n",
    "<li>Do not delete or add cells.</li>\n",
    "</ul>\n",
    "\n",
    "<p><strong>Submission:</strong> Upload the notebook containing your implementation, and change its name s.t. it contains \"a1\" and your student ID: </p>\n",
    "\n",
    "    a1_<k/vk + 8 digits)>.ipynb ; e.g., a1_k01234567.ipynb\n",
    "\n",
    "\n",
    "<p><strong>Practical hints:</strong></p>\n",
    "<ul>\n",
    "\n",
    "<li><code>solve()</code> should return the found solution node or <code>None</code> if no solution is found. You do not need to store the path, the function <code>node.get_action_sequence()</code> can be used to retrieve it later via backtracking.</li>\n",
    "<li>Use a <code>set()</code> to store already visited nodes (when needed).</li>\n",
    "<li>Use the imported data structures <code>Queue</code>, <code>Stack</code>, and <code>PriorityQueue</code> as the fringe / frontier (choose the right datatype depending on the algorithm)</li>\n",
    "</ul>\n",
    "</div>\n",
    "\n"
   ]
  },
  {
   "cell_type": "code",
   "metadata": {
    "deletable": false,
    "editable": false,
    "nbgrader": {
     "cell_type": "code",
     "checksum": "e8c3c2892151630ce3b9132174833fd7",
     "grade": false,
     "grade_id": "cell-c5c2d34ef5fe1e7d",
     "locked": true,
     "schema_version": 3,
     "solution": false,
     "task": false
    },
    "ExecuteTime": {
     "end_time": "2024-10-28T09:21:11.730726Z",
     "start_time": "2024-10-28T09:21:11.725906Z"
    }
   },
   "source": [
    "from pig_lite.problem.base import Problem\n",
    "from pig_lite.datastructures.queue import Queue\n",
    "from pig_lite.datastructures.stack import Stack\n",
    "from pig_lite.datastructures.priority_queue import PriorityQueue\n",
    "from pig_lite.instance_generation.problem_factory import ProblemFactory"
   ],
   "outputs": [],
   "execution_count": 32
  },
  {
   "cell_type": "markdown",
   "metadata": {},
   "source": [
    "<div class=\"alert alert-warning\">\n",
    "<strong>Hint:</strong> Here we load and visualize a problem instance that is used for some basic tests, please do not change it. You can use the printed output after each algorithm (i.e., position of the end node, action sequence) to compare whether your algorithm behaves as expected).\n",
    "</div>"
   ]
  },
  {
   "cell_type": "code",
   "metadata": {
    "deletable": false,
    "editable": false,
    "nbgrader": {
     "cell_type": "code",
     "checksum": "b9b312c546887a10a22564e421213312",
     "grade": false,
     "grade_id": "cell-6f2cca86b47722a9",
     "locked": true,
     "schema_version": 3,
     "solution": false,
     "task": false
    },
    "ExecuteTime": {
     "end_time": "2024-10-28T09:21:13.775573Z",
     "start_time": "2024-10-28T09:21:13.628508Z"
    }
   },
   "source": [
    "factory = ProblemFactory()\n",
    "maze = factory.create_problem_from_json(json_path='boards/tiny0.json')\n",
    "maze.visualize()"
   ],
   "outputs": [
    {
     "data": {
      "text/plain": [
       "<Figure size 1000x700 with 4 Axes>"
      ],
      "image/png": "[encoded data removed]"
     },
     "metadata": {},
     "output_type": "display_data"
    }
   ],
   "execution_count": 33
  },
  {
   "cell_type": "markdown",
   "metadata": {},
   "source": [
    "<div class=\"alert alert-warning\">\n",
    "Now it's your turn to implement 5 different uninformed search algorithms - all spots that need your attention are marked with <code># YOUR CODE HERE</code>!\n",
    "</div>"
   ]
  },
  {
   "cell_type": "markdown",
   "metadata": {},
   "source": [
    "## Implementing BFS (3 points)"
   ]
  },
  {
   "cell_type": "code",
   "metadata": {
    "deletable": false,
    "nbgrader": {
     "cell_type": "code",
     "checksum": "716c2661a31500af4a81eb11f7c180ca",
     "grade": false,
     "grade_id": "cell-d2df9b0e3d90cf00",
     "locked": false,
     "schema_version": 3,
     "solution": true,
     "task": false
    },
    "ExecuteTime": {
     "end_time": "2024-10-28T09:21:16.788537Z",
     "start_time": "2024-10-28T09:21:16.641046Z"
    }
   },
   "source": [
    "class BFS(object):\n",
    "\n",
    "    def __init__(self) -> None:\n",
    "        # YOUR CODE HERE: initialize self.visited and self.fringe here or in the solve function with the correct datatypes\n",
    "        self.visited = set()\n",
    "        self.fringe = Queue()\n",
    "\n",
    "    def solve(self, problem: Problem):        \n",
    "        # YOUR CODE HERE\n",
    "        start_node = problem.get_start_node()\n",
    "        self.fringe.put(start_node)\n",
    "        while self.fringe.has_elements():\n",
    "            node = self.fringe.get()\n",
    "            if problem.is_end(node):\n",
    "                return node\n",
    "            if node.state not in self.visited:\n",
    "                self.visited.add(node.state)\n",
    "                for child in problem.successors(node):\n",
    "                    if child.state not in self.visited:\n",
    "                        self.fringe.put(child)\n",
    "        return None\n",
    "    \n",
    "bfs_search = BFS()\n",
    "maze.reset() # resets maze for hidden tests\n",
    "bfs_solution = bfs_search.solve(maze)\n",
    "\n",
    "if bfs_solution is not None:\n",
    "    bfs_solution.pretty_print()\n",
    "    maze.visualize(sequences=[('bfs', bfs_solution.get_action_sequence())])"
   ],
   "outputs": [
    {
     "name": "stdout",
     "output_type": "stream",
     "text": [
      "state (4, 4) was reached following the sequence ['R', 'R', 'D', 'D', 'R', 'R', 'D', 'D'] (cost: 20, depth: 8)\n"
     ]
    },
    {
     "data": {
      "text/plain": [
       "<Figure size 1000x700 with 4 Axes>"
      ],
      "image/png": "[encoded data removed]"
     },
     "metadata": {},
     "output_type": "display_data"
    }
   ],
   "execution_count": 34
  },
  {
   "cell_type": "markdown",
   "metadata": {},
   "source": [
    "### Basic Checks"
   ]
  },
  {
   "cell_type": "code",
   "metadata": {
    "deletable": false,
    "editable": false,
    "nbgrader": {
     "cell_type": "code",
     "checksum": "28e787a3c6f5725acac5a2ade98cdb2c",
     "grade": true,
     "grade_id": "cell-ca9a92a1cfa1444d",
     "locked": true,
     "points": 0.2,
     "schema_version": 3,
     "solution": false,
     "task": false
    },
    "ExecuteTime": {
     "end_time": "2024-10-28T09:21:19.198962Z",
     "start_time": "2024-10-28T09:21:19.196560Z"
    }
   },
   "source": [
    "# this is a testing cell, do not edit or delete\n",
    "\n",
    "assert(bfs_solution is not None), \"your algorithm did not return a solution\"\n",
    "assert(bfs_solution.state == (4, 4)), \"your algorithm did not return the expected solution\"\n"
   ],
   "outputs": [],
   "execution_count": 35
  },
  {
   "cell_type": "markdown",
   "metadata": {},
   "source": [
    "### Check visited set"
   ]
  },
  {
   "cell_type": "code",
   "metadata": {
    "deletable": false,
    "editable": false,
    "nbgrader": {
     "cell_type": "code",
     "checksum": "4b29e526fc664ad5c80aa3f2135344b1",
     "grade": true,
     "grade_id": "cell-ced878c4bd3f8b22",
     "locked": true,
     "points": 0.5,
     "schema_version": 3,
     "solution": false,
     "task": false
    },
    "ExecuteTime": {
     "end_time": "2024-10-28T09:21:21.223961Z",
     "start_time": "2024-10-28T09:21:21.221717Z"
    }
   },
   "source": [
    "# this is a testing cell, do not edit or delete\n",
    "\n",
    "assert(bfs_search.visited is not None), \"it seems you did not correctly initialize the visited set\"\n"
   ],
   "outputs": [],
   "execution_count": 36
  },
  {
   "cell_type": "markdown",
   "metadata": {},
   "source": [
    "### Check fringe"
   ]
  },
  {
   "cell_type": "code",
   "metadata": {
    "deletable": false,
    "editable": false,
    "nbgrader": {
     "cell_type": "code",
     "checksum": "39bd4d52a3141d8a0f95841c053fbfcb",
     "grade": true,
     "grade_id": "cell-97963b0eac5a8e46",
     "locked": true,
     "points": 0.6,
     "schema_version": 3,
     "solution": false,
     "task": false
    },
    "ExecuteTime": {
     "end_time": "2024-10-28T09:21:22.693876Z",
     "start_time": "2024-10-28T09:21:22.691879Z"
    }
   },
   "source": [
    "# this is a testing cell, do not edit or delete\n",
    "\n",
    "assert(bfs_search.fringe is not None), \"it seems you did not correctly initialize the fringe\"\n"
   ],
   "outputs": [],
   "execution_count": 37
  },
  {
   "cell_type": "markdown",
   "metadata": {},
   "source": [
    "### Check expaned nodes"
   ]
  },
  {
   "cell_type": "code",
   "metadata": {
    "deletable": false,
    "editable": false,
    "nbgrader": {
     "cell_type": "code",
     "checksum": "85a5a44fc73f6d41963cebf5e8d1e990",
     "grade": true,
     "grade_id": "cell-25fc2adbfe6e02be",
     "locked": true,
     "points": 0.2,
     "schema_version": 3,
     "solution": false,
     "task": false
    },
    "ExecuteTime": {
     "end_time": "2024-10-28T09:21:24.741905Z",
     "start_time": "2024-10-28T09:21:24.739534Z"
    }
   },
   "source": [
    "# this is a testing cell, do not edit or delete\n",
    "\n",
    "assert(maze.get_number_of_expanded_nodes() > 0), \"it seems your algorithm did not expand any nodes\"\n"
   ],
   "outputs": [],
   "execution_count": 38
  },
  {
   "cell_type": "markdown",
   "metadata": {},
   "source": [
    "## Implementing UCS (4 points)\n",
    "\n",
    "- implement Uniform Cost Search (UCS), a variant of Dijkstra's Graph Search"
   ]
  },
  {
   "cell_type": "code",
   "metadata": {
    "deletable": false,
    "nbgrader": {
     "cell_type": "code",
     "checksum": "57efee82377a65469cc75a8c797111ab",
     "grade": false,
     "grade_id": "cell-0bc80e814a5b5029",
     "locked": false,
     "schema_version": 3,
     "solution": true,
     "task": false
    },
    "ExecuteTime": {
     "end_time": "2024-10-28T09:21:27.318807Z",
     "start_time": "2024-10-28T09:21:27.110881Z"
    }
   },
   "source": [
    "class UCS(object):\n",
    "\n",
    "    def __init__(self) -> None:\n",
    "        # YOUR CODE HERE: initialize self.visited and self.fringe here or in the solve function with the correct datatypes\n",
    "        self.visited = set()\n",
    "        self.fringe = PriorityQueue()\n",
    "        self.state_cost = {}\n",
    "\n",
    "    def solve(self, problem: Problem):\n",
    "        # YOUR CODE HERE\n",
    "        start_node = problem.get_start_node()\n",
    "        self.fringe.put(start_node.cost, start_node)\n",
    "        self.state_cost[start_node.state] = start_node.cost\n",
    "\n",
    "        while self.fringe.has_elements():\n",
    "            node = self.fringe.get()\n",
    "            if problem.is_end(node):\n",
    "                return node\n",
    "            if node.state in self.visited:\n",
    "                continue\n",
    "            self.visited.add(node.state)\n",
    "            for child in problem.successors(node):\n",
    "                if (child.state not in self.visited) or (child.cost < self.state_cost.get(child.state, float('inf'))):\n",
    "                    self.state_cost[child.state] = child.cost\n",
    "                    self.fringe.put(child.cost, child)\n",
    "        return None\n",
    "\n",
    "ucs_search = UCS()\n",
    "maze.reset() # resets maze for hidden tests\n",
    "ucs_solution = ucs_search.solve(maze)\n",
    "\n",
    "if ucs_solution is not None:\n",
    "    ucs_solution.pretty_print()\n",
    "    maze.visualize(sequences=[('ucs', ucs_solution.get_action_sequence())])"
   ],
   "outputs": [
    {
     "name": "stdout",
     "output_type": "stream",
     "text": [
      "state (4, 4) was reached following the sequence ['D', 'D', 'D', 'D', 'R', 'R', 'R', 'R'] (cost: 12, depth: 8)\n"
     ]
    },
    {
     "data": {
      "text/plain": [
       "<Figure size 1000x700 with 4 Axes>"
      ],
      "image/png": "[encoded data removed]"
     },
     "metadata": {},
     "output_type": "display_data"
    }
   ],
   "execution_count": 39
  },
  {
   "cell_type": "markdown",
   "metadata": {},
   "source": [
    "### Basic checks"
   ]
  },
  {
   "cell_type": "code",
   "metadata": {
    "deletable": false,
    "editable": false,
    "nbgrader": {
     "cell_type": "code",
     "checksum": "ce6fbf0a628507c9dd12b28848f24b44",
     "grade": true,
     "grade_id": "cell-aac452910d38e14e",
     "locked": true,
     "points": 0.2,
     "schema_version": 3,
     "solution": false,
     "task": false
    },
    "ExecuteTime": {
     "end_time": "2024-10-28T09:21:30.006707Z",
     "start_time": "2024-10-28T09:21:30.004125Z"
    }
   },
   "source": [
    "# this is a testing cell, do not edit or delete\n",
    "\n",
    "assert(ucs_solution is not None), \"your algorithm did not return a solution\"\n",
    "assert(ucs_solution.state == (4, 4)), \"your algorithm did not return the expected solution\"\n"
   ],
   "outputs": [],
   "execution_count": 40
  },
  {
   "cell_type": "markdown",
   "metadata": {},
   "source": [
    "### Check visited set"
   ]
  },
  {
   "cell_type": "code",
   "metadata": {
    "deletable": false,
    "editable": false,
    "nbgrader": {
     "cell_type": "code",
     "checksum": "61fff5bec13d6e25c973ecfb8d466d01",
     "grade": true,
     "grade_id": "cell-f7d28a2a7702c9bd",
     "locked": true,
     "points": 0.5,
     "schema_version": 3,
     "solution": false,
     "task": false
    },
    "ExecuteTime": {
     "end_time": "2024-10-28T09:21:31.593987Z",
     "start_time": "2024-10-28T09:21:31.591931Z"
    }
   },
   "source": [
    "# this is a testing cell, do not edit or delete\n",
    "\n",
    "assert(ucs_search.visited is not None), \"it seems you did not correctly initialize the visited set\"\n"
   ],
   "outputs": [],
   "execution_count": 41
  },
  {
   "cell_type": "markdown",
   "metadata": {},
   "source": [
    "### Check fringe"
   ]
  },
  {
   "cell_type": "code",
   "metadata": {
    "deletable": false,
    "editable": false,
    "nbgrader": {
     "cell_type": "code",
     "checksum": "7c7f7454bdb8a29eee3b9683a20a3dd0",
     "grade": true,
     "grade_id": "cell-7502444279f2a79a",
     "locked": true,
     "points": 0.8,
     "schema_version": 3,
     "solution": false,
     "task": false
    },
    "ExecuteTime": {
     "end_time": "2024-10-28T09:21:32.992136Z",
     "start_time": "2024-10-28T09:21:32.989848Z"
    }
   },
   "source": [
    "# this is a testing cell, do not edit or delete\n",
    "\n",
    "assert(ucs_search.fringe is not None), \"it seems you did not correctly initialize the fringe\"\n"
   ],
   "outputs": [],
   "execution_count": 42
  },
  {
   "cell_type": "markdown",
   "metadata": {},
   "source": [
    "### Checking cost"
   ]
  },
  {
   "cell_type": "code",
   "metadata": {
    "deletable": false,
    "editable": false,
    "nbgrader": {
     "cell_type": "code",
     "checksum": "8bcc237aa272917d944b056706f7b57b",
     "grade": true,
     "grade_id": "cell-d395b6d5f9d370b1",
     "locked": true,
     "points": 1,
     "schema_version": 3,
     "solution": false,
     "task": false
    },
    "ExecuteTime": {
     "end_time": "2024-10-28T09:21:35.661445Z",
     "start_time": "2024-10-28T09:21:35.656775Z"
    }
   },
   "source": [
    "# this is a testing cell, do not edit or delete\n",
    "\n",
    "assert(ucs_solution.cost < bfs_solution.cost), \"the solution found by your algorithm did not return the expected cost\"\n"
   ],
   "outputs": [],
   "execution_count": 43
  },
  {
   "cell_type": "markdown",
   "metadata": {},
   "source": [
    "## Implementing DFS (3 points)"
   ]
  },
  {
   "cell_type": "code",
   "metadata": {
    "deletable": false,
    "nbgrader": {
     "cell_type": "code",
     "checksum": "6c1e9ac7733fbca45f4b842d89e4416f",
     "grade": false,
     "grade_id": "cell-e94fcb80013152e4",
     "locked": false,
     "schema_version": 3,
     "solution": true,
     "task": false
    },
    "ExecuteTime": {
     "end_time": "2024-10-28T09:21:38.220922Z",
     "start_time": "2024-10-28T09:21:38.073678Z"
    }
   },
   "source": [
    "class DFS(object):\n",
    "\n",
    "    def __init__(self) -> None:\n",
    "        # YOUR CODE HERE: initialize self.visited and self.fringe here or in the solve function with the correct datatypes\n",
    "        self.visited = set()\n",
    "        self.fringe = Stack()\n",
    "\n",
    "    def solve(self, problem: Problem):\n",
    "        # YOUR CODE HERE\n",
    "        start_node = problem.get_start_node()\n",
    "        self.fringe.put(start_node)\n",
    "        while self.fringe.has_elements():\n",
    "            node = self.fringe.get()\n",
    "            if problem.is_end(node):\n",
    "                return node\n",
    "            if node.state not in self.visited:\n",
    "                self.visited.add(node.state)\n",
    "                for child in problem.successors(node):\n",
    "                    if child.state not in self.visited:\n",
    "                        self.fringe.put(child)\n",
    "        return None\n",
    "\n",
    "dfs_search = DFS()\n",
    "maze.reset() # resets maze for hidden tests\n",
    "dfs_solution = dfs_search.solve(maze)\n",
    "\n",
    "if dfs_solution is not None:\n",
    "    dfs_solution.pretty_print()\n",
    "    maze.visualize(sequences=[('dfs', dfs_solution.get_action_sequence())])"
   ],
   "outputs": [
    {
     "name": "stdout",
     "output_type": "stream",
     "text": [
      "state (4, 4) was reached following the sequence ['D', 'D', 'D', 'D', 'R', 'R', 'U', 'U', 'R', 'R', 'D', 'D'] (cost: 24, depth: 12)\n"
     ]
    },
    {
     "data": {
      "text/plain": [
       "<Figure size 1000x700 with 4 Axes>"
      ],
      "image/png": "[encoded data removed]"
     },
     "metadata": {},
     "output_type": "display_data"
    }
   ],
   "execution_count": 44
  },
  {
   "cell_type": "markdown",
   "metadata": {},
   "source": [
    "### Basic checks"
   ]
  },
  {
   "cell_type": "code",
   "metadata": {
    "deletable": false,
    "editable": false,
    "nbgrader": {
     "cell_type": "code",
     "checksum": "2af8f77e53efa803dcca2786aa0d11e9",
     "grade": true,
     "grade_id": "cell-7729bdb99cbcb357",
     "locked": true,
     "points": 0.2,
     "schema_version": 3,
     "solution": false,
     "task": false
    },
    "ExecuteTime": {
     "end_time": "2024-10-28T09:21:41.004886Z",
     "start_time": "2024-10-28T09:21:41.002471Z"
    }
   },
   "source": [
    "# this is a testing cell, do not edit or delete\n",
    "\n",
    "assert(dfs_solution is not None), \"your algorithm did not return a solution\"\n",
    "assert(dfs_solution.state == (4, 4)), \"your algorithm did not return the expected solution\"\n"
   ],
   "outputs": [],
   "execution_count": 45
  },
  {
   "cell_type": "markdown",
   "metadata": {},
   "source": [
    "### Check visited set"
   ]
  },
  {
   "cell_type": "code",
   "metadata": {
    "deletable": false,
    "editable": false,
    "nbgrader": {
     "cell_type": "code",
     "checksum": "71c2368556399fc6760eded818cd9e19",
     "grade": true,
     "grade_id": "cell-ea2de578de0929dd",
     "locked": true,
     "points": 0.5,
     "schema_version": 3,
     "solution": false,
     "task": false
    },
    "ExecuteTime": {
     "end_time": "2024-10-28T09:21:42.885113Z",
     "start_time": "2024-10-28T09:21:42.882845Z"
    }
   },
   "source": [
    "# this is a testing cell, do not edit or delete\n",
    "\n",
    "assert(dfs_search.visited is not None), \"it seems you did not correctly initialize the visited set\"\n"
   ],
   "outputs": [],
   "execution_count": 46
  },
  {
   "cell_type": "markdown",
   "metadata": {},
   "source": [
    "### Check fringe"
   ]
  },
  {
   "cell_type": "code",
   "metadata": {
    "deletable": false,
    "editable": false,
    "nbgrader": {
     "cell_type": "code",
     "checksum": "148a54f4b86a54e75f3b32f656324239",
     "grade": true,
     "grade_id": "cell-45ac331b0d77b101",
     "locked": true,
     "points": 0.8,
     "schema_version": 3,
     "solution": false,
     "task": false
    },
    "ExecuteTime": {
     "end_time": "2024-10-28T09:21:44.487265Z",
     "start_time": "2024-10-28T09:21:44.485656Z"
    }
   },
   "source": [
    "# this is a testing cell, do not edit or delete\n",
    "\n",
    "assert(dfs_search.fringe is not None), \"it seems you did not correctly initialize the fringe\"\n"
   ],
   "outputs": [],
   "execution_count": 47
  },
  {
   "cell_type": "markdown",
   "metadata": {},
   "source": [
    "## Implementing DLDFS (4 points)\n",
    "\n",
    "<strong>Hints:</strong>\n",
    "<ul>\n",
    "<li>This algorithm should be implemented recursively, which means you will not require an explicit fringe. Think about why this is the case!</li>\n",
    "<li>To be comparable to our solution you also do not need to use a visited set for this algorithm.</li>\n",
    "</ul>"
   ]
  },
  {
   "cell_type": "code",
   "metadata": {
    "deletable": false,
    "nbgrader": {
     "cell_type": "code",
     "checksum": "da284236de56495b7e580ad070a76dc8",
     "grade": false,
     "grade_id": "cell-3e0fae5d39e252d7",
     "locked": false,
     "schema_version": 3,
     "solution": true,
     "task": false
    },
    "ExecuteTime": {
     "end_time": "2024-10-28T09:21:47.614464Z",
     "start_time": "2024-10-28T09:21:47.461290Z"
    }
   },
   "source": [
    "class DLDFS_Recursive(object):\n",
    "    def __init__(self, max_depth):\n",
    "        self.max_depth = max_depth\n",
    "\n",
    "    def solve_aux(self, problem, current):\n",
    "        # YOUR CODE HERE\n",
    "        def recursive(node, depth):\n",
    "            if problem.is_end(node):\n",
    "                return node\n",
    "            elif depth >= self.max_depth:\n",
    "                return None\n",
    "            else:\n",
    "                for child in problem.successors(node):\n",
    "                    result = recursive(child, depth + 1)\n",
    "                    if result is not None:\n",
    "                        return result\n",
    "                return None\n",
    "        return recursive(current, 0)\n",
    "\n",
    "    def solve(self, problem: Problem):\n",
    "        return self.solve_aux(problem, problem.get_start_node())\n",
    "\n",
    "\n",
    "dldfs_search = DLDFS_Recursive(12)\n",
    "maze.reset() # resets maze for hidden tests\n",
    "dldfs_solution = dldfs_search.solve(maze)\n",
    "\n",
    "if dldfs_solution is not None:\n",
    "    dldfs_solution.pretty_print()\n",
    "    maze.visualize(sequences=[('dldfs', dldfs_solution.get_action_sequence())])"
   ],
   "outputs": [
    {
     "name": "stdout",
     "output_type": "stream",
     "text": [
      "state (4, 4) was reached following the sequence ['R', 'R', 'R', 'R', 'L', 'L', 'D', 'D', 'R', 'R', 'D', 'D'] (cost: 36, depth: 12)\n"
     ]
    },
    {
     "data": {
      "text/plain": [
       "<Figure size 1000x700 with 4 Axes>"
      ],
      "image/png": "[encoded data removed]"
     },
     "metadata": {},
     "output_type": "display_data"
    }
   ],
   "execution_count": 48
  },
  {
   "cell_type": "markdown",
   "metadata": {},
   "source": [
    "### Basic Checks"
   ]
  },
  {
   "cell_type": "code",
   "metadata": {
    "deletable": false,
    "editable": false,
    "nbgrader": {
     "cell_type": "code",
     "checksum": "ebbd92b02d609b68c900aedcd95b94c2",
     "grade": true,
     "grade_id": "cell-07d2f9c64ab2c152",
     "locked": true,
     "points": 2,
     "schema_version": 3,
     "solution": false,
     "task": false
    },
    "ExecuteTime": {
     "end_time": "2024-10-28T09:21:49.496029Z",
     "start_time": "2024-10-28T09:21:49.494181Z"
    }
   },
   "source": [
    "# this is a testing cell, do not edit or delete\n",
    "\n",
    "assert(dldfs_solution is not None), \"your algorithm did not return a solution\"\n",
    "assert(dldfs_solution.state == (4, 4)), \"your algorithm did not return the expected solution\"\n"
   ],
   "outputs": [],
   "execution_count": 49
  },
  {
   "cell_type": "markdown",
   "metadata": {},
   "source": [
    "## Implementing IDS (1 point)\n",
    "\n",
    "<strong>Hint:</strong>\n",
    "<ul>\n",
    "<li>Make use of the DLDFS algorithm that you implemented above</li>\n",
    "</ul>"
   ]
  },
  {
   "cell_type": "code",
   "metadata": {
    "deletable": false,
    "nbgrader": {
     "cell_type": "code",
     "checksum": "8f21b2a9464561f48f79410a2f8a1467",
     "grade": false,
     "grade_id": "cell-b3614f9983cf1dce",
     "locked": false,
     "schema_version": 3,
     "solution": true,
     "task": false
    },
    "ExecuteTime": {
     "end_time": "2024-10-28T09:21:52.348864Z",
     "start_time": "2024-10-28T09:21:52.191604Z"
    }
   },
   "source": [
    "class IDS(object):\n",
    "    def solve(self, problem: Problem):\n",
    "        node = None\n",
    "        depth = 0\n",
    "\n",
    "        while True:\n",
    "            dldfs_search = DLDFS_Recursive(depth)\n",
    "            node = dldfs_search.solve(problem)\n",
    "            if node is not None:\n",
    "                return node\n",
    "            depth += 1\n",
    "            \n",
    "        return node\n",
    "    \n",
    "ids_search = IDS()\n",
    "maze.reset() # resets maze for hidden tests\n",
    "ids_solution = ids_search.solve(maze)\n",
    "\n",
    "if ids_solution is not None:\n",
    "    ids_solution.pretty_print()\n",
    "    maze.visualize(sequences=[('ids', ids_solution.get_action_sequence())])"
   ],
   "outputs": [
    {
     "name": "stdout",
     "output_type": "stream",
     "text": [
      "state (4, 4) was reached following the sequence ['R', 'R', 'D', 'D', 'R', 'R', 'D', 'D'] (cost: 20, depth: 8)\n"
     ]
    },
    {
     "data": {
      "text/plain": [
       "<Figure size 1000x700 with 4 Axes>"
      ],
      "image/png": "[encoded data removed]"
     },
     "metadata": {},
     "output_type": "display_data"
    }
   ],
   "execution_count": 50
  },
  {
   "cell_type": "code",
   "metadata": {
    "deletable": false,
    "editable": false,
    "nbgrader": {
     "cell_type": "code",
     "checksum": "fd5b5c737384cd13535dfd481edaca15",
     "grade": true,
     "grade_id": "cell-36d9e04df571467f",
     "locked": true,
     "points": 0.5,
     "schema_version": 3,
     "solution": false,
     "task": false
    },
    "ExecuteTime": {
     "end_time": "2024-10-28T09:21:53.727468Z",
     "start_time": "2024-10-28T09:21:53.725522Z"
    }
   },
   "source": [
    "# this is a testing cell, do not edit or delete\n",
    "\n",
    "assert(ids_solution is not None), \"your algorithm did not return a solution\"\n",
    "assert(ids_solution.state == (4, 4)), \"your algorithm did not return the expected solution\"\n"
   ],
   "outputs": [],
   "execution_count": 51
  },
  {
   "cell_type": "markdown",
   "metadata": {},
   "source": [
    "# Additional tests\n",
    "\n",
    "<div class=\"alert alert-danger\">\n",
    "    <strong>Attention!</strong> Do not change anything below this point!\n",
    "</div>"
   ]
  },
  {
   "cell_type": "markdown",
   "metadata": {},
   "source": [
    "## BFS"
   ]
  },
  {
   "cell_type": "code",
   "execution_count": null,
   "metadata": {
    "deletable": false,
    "editable": false,
    "nbgrader": {
     "cell_type": "code",
     "checksum": "aae25b20a4e0f98337df3ea5318f1697",
     "grade": true,
     "grade_id": "cell-e5838acf9ccac6a1",
     "locked": true,
     "points": 0.2,
     "schema_version": 3,
     "solution": false,
     "task": false
    }
   },
   "outputs": [],
   "source": []
  },
  {
   "cell_type": "code",
   "execution_count": null,
   "metadata": {
    "deletable": false,
    "editable": false,
    "nbgrader": {
     "cell_type": "code",
     "checksum": "c9c69e35fd5b9f3da657d21a04b5a8b7",
     "grade": true,
     "grade_id": "cell-ce45d2b2c69ac82b",
     "locked": true,
     "points": 0.2,
     "schema_version": 3,
     "solution": false,
     "task": false
    }
   },
   "outputs": [],
   "source": []
  },
  {
   "cell_type": "code",
   "execution_count": null,
   "metadata": {
    "deletable": false,
    "editable": false,
    "nbgrader": {
     "cell_type": "code",
     "checksum": "90059ddb49268782c949ca89386a42c3",
     "grade": true,
     "grade_id": "cell-18eb50783e9eb46a",
     "locked": true,
     "points": 0.2,
     "schema_version": 3,
     "solution": false,
     "task": false
    }
   },
   "outputs": [],
   "source": []
  },
  {
   "cell_type": "code",
   "execution_count": null,
   "metadata": {
    "deletable": false,
    "editable": false,
    "nbgrader": {
     "cell_type": "code",
     "checksum": "b9dd88da8dd881e5ce56b03fc560332a",
     "grade": true,
     "grade_id": "cell-fcc644698a61a6ca",
     "locked": true,
     "points": 0.2,
     "schema_version": 3,
     "solution": false,
     "task": false
    }
   },
   "outputs": [],
   "source": []
  },
  {
   "cell_type": "code",
   "execution_count": null,
   "metadata": {
    "deletable": false,
    "editable": false,
    "nbgrader": {
     "cell_type": "code",
     "checksum": "c9e845f3764675e60f2ebf631c5ed369",
     "grade": true,
     "grade_id": "cell-b3c411b0b9ffe343",
     "locked": true,
     "points": 0.2,
     "schema_version": 3,
     "solution": false,
     "task": false
    }
   },
   "outputs": [],
   "source": []
  },
  {
   "cell_type": "code",
   "execution_count": null,
   "metadata": {
    "deletable": false,
    "editable": false,
    "nbgrader": {
     "cell_type": "code",
     "checksum": "36289b6975a2688ad26f8a175e1b17b5",
     "grade": true,
     "grade_id": "cell-31480e1a21efceba",
     "locked": true,
     "points": 0.5,
     "schema_version": 3,
     "solution": false,
     "task": false
    }
   },
   "outputs": [],
   "source": []
  },
  {
   "cell_type": "markdown",
   "metadata": {},
   "source": [
    "## UCS"
   ]
  },
  {
   "cell_type": "code",
   "execution_count": null,
   "metadata": {
    "deletable": false,
    "editable": false,
    "nbgrader": {
     "cell_type": "code",
     "checksum": "172e499c4caf0af0c0b0894959c48170",
     "grade": true,
     "grade_id": "cell-d515fc6668d43fd4",
     "locked": true,
     "points": 0.2,
     "schema_version": 3,
     "solution": false,
     "task": false
    }
   },
   "outputs": [],
   "source": []
  },
  {
   "cell_type": "code",
   "execution_count": null,
   "metadata": {
    "deletable": false,
    "editable": false,
    "nbgrader": {
     "cell_type": "code",
     "checksum": "4614934e913ae24ab3ddb93140d431d5",
     "grade": true,
     "grade_id": "cell-fcfe4074d3c4c387",
     "locked": true,
     "points": 0.2,
     "schema_version": 3,
     "solution": false,
     "task": false
    }
   },
   "outputs": [],
   "source": []
  },
  {
   "cell_type": "code",
   "execution_count": null,
   "metadata": {
    "deletable": false,
    "editable": false,
    "nbgrader": {
     "cell_type": "code",
     "checksum": "f8e95de866600740387ada26304d1820",
     "grade": true,
     "grade_id": "cell-ce100e77f49a0a17",
     "locked": true,
     "points": 0.2,
     "schema_version": 3,
     "solution": false,
     "task": false
    }
   },
   "outputs": [],
   "source": []
  },
  {
   "cell_type": "code",
   "execution_count": null,
   "metadata": {
    "deletable": false,
    "editable": false,
    "nbgrader": {
     "cell_type": "code",
     "checksum": "cfefb1e009b4a7ac0804dd4910c4534b",
     "grade": true,
     "grade_id": "cell-5c98befa3e12ccd1",
     "locked": true,
     "points": 0.2,
     "schema_version": 3,
     "solution": false,
     "task": false
    }
   },
   "outputs": [],
   "source": []
  },
  {
   "cell_type": "code",
   "execution_count": null,
   "metadata": {
    "deletable": false,
    "editable": false,
    "nbgrader": {
     "cell_type": "code",
     "checksum": "e0622533c87b4d345cf2468b52d5c69f",
     "grade": true,
     "grade_id": "cell-b709864254cec474",
     "locked": true,
     "points": 0.2,
     "schema_version": 3,
     "solution": false,
     "task": false
    }
   },
   "outputs": [],
   "source": []
  },
  {
   "cell_type": "code",
   "execution_count": null,
   "metadata": {
    "deletable": false,
    "editable": false,
    "nbgrader": {
     "cell_type": "code",
     "checksum": "233de240ef0e14fa40078dcefb533e6e",
     "grade": true,
     "grade_id": "cell-3d9d720cd46fd965",
     "locked": true,
     "points": 0.5,
     "schema_version": 3,
     "solution": false,
     "task": false
    }
   },
   "outputs": [],
   "source": []
  },
  {
   "cell_type": "markdown",
   "metadata": {},
   "source": [
    "## DFS"
   ]
  },
  {
   "cell_type": "code",
   "execution_count": null,
   "metadata": {
    "deletable": false,
    "editable": false,
    "nbgrader": {
     "cell_type": "code",
     "checksum": "a0818f1b4cd5fd49b1ee7f06e97d41dd",
     "grade": true,
     "grade_id": "cell-fbef9ebfc64d0579",
     "locked": true,
     "points": 0.2,
     "schema_version": 3,
     "solution": false,
     "task": false
    }
   },
   "outputs": [],
   "source": []
  },
  {
   "cell_type": "code",
   "execution_count": null,
   "metadata": {
    "deletable": false,
    "editable": false,
    "nbgrader": {
     "cell_type": "code",
     "checksum": "9137f460f5446e4d7f6cd45ac0856134",
     "grade": true,
     "grade_id": "cell-b7dffcb6abd93552",
     "locked": true,
     "points": 0.2,
     "schema_version": 3,
     "solution": false,
     "task": false
    }
   },
   "outputs": [],
   "source": []
  },
  {
   "cell_type": "code",
   "execution_count": null,
   "metadata": {
    "deletable": false,
    "editable": false,
    "nbgrader": {
     "cell_type": "code",
     "checksum": "3d055c7fa94236689f54b7fcc08ad653",
     "grade": true,
     "grade_id": "cell-d10f2fec91098425",
     "locked": true,
     "points": 0.2,
     "schema_version": 3,
     "solution": false,
     "task": false
    }
   },
   "outputs": [],
   "source": []
  },
  {
   "cell_type": "code",
   "execution_count": null,
   "metadata": {
    "deletable": false,
    "editable": false,
    "nbgrader": {
     "cell_type": "code",
     "checksum": "60f42c1bc498988c51b06b5d6920acb4",
     "grade": true,
     "grade_id": "cell-1b277be9230355d0",
     "locked": true,
     "points": 0.2,
     "schema_version": 3,
     "solution": false,
     "task": false
    }
   },
   "outputs": [],
   "source": []
  },
  {
   "cell_type": "code",
   "execution_count": null,
   "metadata": {
    "deletable": false,
    "editable": false,
    "nbgrader": {
     "cell_type": "code",
     "checksum": "94f23fb5cd22396c980cceb1264a0d1e",
     "grade": true,
     "grade_id": "cell-c4f7dbe4d3a2ca3d",
     "locked": true,
     "points": 0.2,
     "schema_version": 3,
     "solution": false,
     "task": false
    }
   },
   "outputs": [],
   "source": []
  },
  {
   "cell_type": "code",
   "execution_count": null,
   "metadata": {
    "deletable": false,
    "editable": false,
    "nbgrader": {
     "cell_type": "code",
     "checksum": "ac491f8d4cf414800cc842cb388e63de",
     "grade": true,
     "grade_id": "cell-f24c21dd867ccc44",
     "locked": true,
     "points": 0.5,
     "schema_version": 3,
     "solution": false,
     "task": false
    }
   },
   "outputs": [],
   "source": []
  },
  {
   "cell_type": "markdown",
   "metadata": {},
   "source": [
    "## DLDFS"
   ]
  },
  {
   "cell_type": "code",
   "execution_count": null,
   "metadata": {},
   "outputs": [],
   "source": [
    "# we need more depth for some of the problem instances\n",
    "dldfs_search = DLDFS_Recursive(25)"
   ]
  },
  {
   "cell_type": "code",
   "execution_count": null,
   "metadata": {
    "deletable": false,
    "editable": false,
    "nbgrader": {
     "cell_type": "code",
     "checksum": "9443930799fa0770e190f54ffaf45804",
     "grade": true,
     "grade_id": "cell-5fafe913c0c969c2",
     "locked": true,
     "points": 0.4,
     "schema_version": 3,
     "solution": false,
     "task": false
    }
   },
   "outputs": [],
   "source": []
  },
  {
   "cell_type": "code",
   "execution_count": null,
   "metadata": {
    "deletable": false,
    "editable": false,
    "nbgrader": {
     "cell_type": "code",
     "checksum": "6bbcba173a87cae91b41574dd95a3998",
     "grade": true,
     "grade_id": "cell-462d4b407fabc045",
     "locked": true,
     "points": 0.4,
     "schema_version": 3,
     "solution": false,
     "task": false
    }
   },
   "outputs": [],
   "source": []
  },
  {
   "cell_type": "code",
   "execution_count": null,
   "metadata": {
    "deletable": false,
    "editable": false,
    "nbgrader": {
     "cell_type": "code",
     "checksum": "c6b0ed6705edbd64c30fab11b45cfe30",
     "grade": true,
     "grade_id": "cell-30634f5520d90c17",
     "locked": true,
     "points": 0.4,
     "schema_version": 3,
     "solution": false,
     "task": false
    }
   },
   "outputs": [],
   "source": []
  },
  {
   "cell_type": "code",
   "execution_count": null,
   "metadata": {
    "deletable": false,
    "editable": false,
    "nbgrader": {
     "cell_type": "code",
     "checksum": "b2bc4ac608ae5a6004cdd5cca39d11c1",
     "grade": true,
     "grade_id": "cell-4d12d065035af707",
     "locked": true,
     "points": 0.4,
     "schema_version": 3,
     "solution": false,
     "task": false
    }
   },
   "outputs": [],
   "source": []
  },
  {
   "cell_type": "code",
   "execution_count": null,
   "metadata": {
    "deletable": false,
    "editable": false,
    "nbgrader": {
     "cell_type": "code",
     "checksum": "d96f828826f9161a506e54edf939ed61",
     "grade": true,
     "grade_id": "cell-9320c5aa64bda863",
     "locked": true,
     "points": 0.4,
     "schema_version": 3,
     "solution": false,
     "task": false
    }
   },
   "outputs": [],
   "source": []
  },
  {
   "cell_type": "markdown",
   "metadata": {},
   "source": [
    "## IDS"
   ]
  },
  {
   "cell_type": "code",
   "execution_count": null,
   "metadata": {
    "deletable": false,
    "editable": false,
    "nbgrader": {
     "cell_type": "code",
     "checksum": "1dbd6059f84f35995926396d0940772f",
     "grade": true,
     "grade_id": "cell-951813681d37fac0",
     "locked": true,
     "points": 0.1,
     "schema_version": 3,
     "solution": false,
     "task": false
    }
   },
   "outputs": [],
   "source": []
  },
  {
   "cell_type": "code",
   "execution_count": null,
   "metadata": {
    "deletable": false,
    "editable": false,
    "nbgrader": {
     "cell_type": "code",
     "checksum": "195538fb714bdff84f91ddac1898d130",
     "grade": true,
     "grade_id": "cell-90bd1d9cace41b93",
     "locked": true,
     "points": 0.1,
     "schema_version": 3,
     "solution": false,
     "task": false
    }
   },
   "outputs": [],
   "source": []
  },
  {
   "cell_type": "code",
   "execution_count": null,
   "metadata": {
    "deletable": false,
    "editable": false,
    "nbgrader": {
     "cell_type": "code",
     "checksum": "62791eaa5303877f0402fdd4d29ef51b",
     "grade": true,
     "grade_id": "cell-f38380f9ab502704",
     "locked": true,
     "points": 0.1,
     "schema_version": 3,
     "solution": false,
     "task": false
    }
   },
   "outputs": [],
   "source": []
  },
  {
   "cell_type": "code",
   "execution_count": null,
   "metadata": {
    "deletable": false,
    "editable": false,
    "nbgrader": {
     "cell_type": "code",
     "checksum": "e4bea0870114814b4f6f2996da5e822c",
     "grade": true,
     "grade_id": "cell-58d667cc9d701e52",
     "locked": true,
     "points": 0.1,
     "schema_version": 3,
     "solution": false,
     "task": false
    }
   },
   "outputs": [],
   "source": []
  },
  {
   "cell_type": "code",
   "execution_count": null,
   "metadata": {
    "deletable": false,
    "editable": false,
    "nbgrader": {
     "cell_type": "code",
     "checksum": "58e769bfe567b3eb173ef650f56e9a47",
     "grade": true,
     "grade_id": "cell-768a694fd1d7c870",
     "locked": true,
     "points": 0.1,
     "schema_version": 3,
     "solution": false,
     "task": false
    }
   },
   "outputs": [],
   "source": []
  }
 ],
 "metadata": {
  "kernelspec": {
   "display_name": "Python 3 (ipykernel)",
   "language": "python",
   "name": "python3"
  },
  "language_info": {
   "codemirror_mode": {
    "name": "ipython",
    "version": 3
   },
   "file_extension": ".py",
   "mimetype": "text/x-python",
   "name": "python",
   "nbconvert_exporter": "python",
   "pygments_lexer": "ipython3",
   "version": "3.12.6"
  }
 },
 "nbformat": 4,
 "nbformat_minor": 4
}
