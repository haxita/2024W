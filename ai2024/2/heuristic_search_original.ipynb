{
 "cells": [
  {
   "cell_type": "markdown",
   "metadata": {
    "deletable": false,
    "editable": false,
    "nbgrader": {
     "cell_type": "markdown",
     "checksum": "a3b0e708a3ecaedb05e49b8178e78d75",
     "grade": false,
     "grade_id": "cell-fca4677f5235e400",
     "locked": true,
     "schema_version": 3,
     "solution": false,
     "task": false
    },
    "slideshow": {
     "slide_type": ""
    },
    "tags": []
   },
   "source": [
    "# Artificial Intelligence UE\n",
    "## Assignment 2 - Heuristic Search\n",
    "\n",
    "<div class=\"alert alert-danger\"\">\n",
    "    <strong>Deadline: </strong> 11.11.2024, 12:00 (noon)\n",
    "</div>\n",
    "\n",
    "In this assignment you are looking at two heuristic search algorithms: Greedy Best First Search, and A* search. We also look at a few different heuristics to test out the algorithms. \n",
    "\n",
    "The algorithms have been explained in the lecture (VO) and we gave you some additional information in the exercise (UE). Please refer to the lecture slides (VO) for the pseudo algorithms and the exercise slides (UE) for additional hints.\n",
    "\n",
    "<div class=\"alert alert-warning\">\n",
    "\n",
    "<p><strong>Automatic Grading:</strong></p>\n",
    "<ul>\n",
    "<li>Replace the placeholders <code># YOUR CODE HERE</code>, <code>raise NotImplementedError()</code> with your code.</li>\n",
    "<li>Do not rename any of the already existing variables (this might lead to hidden tests failing / not working).</li>\n",
    "<li>Do not delete or add cells.</li>\n",
    "</ul>\n",
    "\n",
    "<p><strong>Submission:</strong> Upload the notebook containing your implementation, and change its name s.t. it contains \"a2\" and your student ID: </p>\n",
    "\n",
    "    a2_<k/vk + 8 digits>.ipynb ; e.g., a2_k01234567.ipynb\n",
    "\n",
    "\n",
    "<p><strong>Practical hints:</strong></p>\n",
    "<ul>\n",
    "\n",
    "<li><code>solve()</code> should return the found solution node or <code>None</code> if no solution is found. You do not need to store the path, the function <code>node.get_action_sequence()</code> can be used to retrieve it later via backtracking.</li>\n",
    "<li>The heuristics return <code>-1</code> for now; change them so that they return the distance that they represent!</li>\n",
    "<li>Use a <code>set()</code> to store already visited nodes (when needed).</li>\n",
    "<li>Use the imported data structures <code>Queue</code>, <code>Stack</code>, and <code>PriorityQueue</code> as the fringe / frontier (choose the right datatype depending on the algorithm)</li>\n",
    "</ul>\n",
    "</div>"
   ]
  },
  {
   "cell_type": "code",
   "metadata": {
    "deletable": false,
    "editable": false,
    "nbgrader": {
     "cell_type": "code",
     "checksum": "9f781970aadce801f4f3db209b324590",
     "grade": false,
     "grade_id": "cell-a899a3e4e7642bba",
     "locked": true,
     "schema_version": 3,
     "solution": false,
     "task": false
    },
    "ExecuteTime": {
     "end_time": "2024-11-11T09:33:23.377831Z",
     "start_time": "2024-11-11T09:33:23.008631Z"
    }
   },
   "source": [
    "# import stuff\n",
    "from pig_lite.problem.base import Problem, Node\n",
    "from pig_lite.datastructures.priority_queue import PriorityQueue\n",
    "from pig_lite.instance_generation.problem_factory import ProblemFactory\n",
    "\n",
    "import math\n",
    "import random"
   ],
   "outputs": [],
   "execution_count": 1
  },
  {
   "cell_type": "code",
   "execution_count": null,
   "metadata": {
    "deletable": false,
    "editable": false,
    "nbgrader": {
     "cell_type": "code",
     "checksum": "d39d626778c6bc4602c99d614ce15f29",
     "grade": false,
     "grade_id": "cell-e5b8421256781208",
     "locked": true,
     "schema_version": 3,
     "solution": false,
     "task": false
    }
   },
   "outputs": [],
   "source": [
    "# as a reminder, this way we can visualize a particular problem (here: a maze)\n",
    "factory = ProblemFactory()\n",
    "maze = factory.create_problem_from_json(json_path='boards/tiny0.json')\n",
    "maze.visualize()"
   ]
  },
  {
   "cell_type": "markdown",
   "metadata": {},
   "source": [
    "<div class=\"alert alert-warning\">\n",
    "Now it's your turn to implement some heuristics and search algorithms - all spots that need your attention are marked with <code># YOUR CODE HERE</code>!\n",
    "</div>"
   ]
  },
  {
   "cell_type": "markdown",
   "metadata": {
    "deletable": false,
    "editable": false,
    "nbgrader": {
     "cell_type": "markdown",
     "checksum": "e3335d1a4b09852a59bd18e41351faa8",
     "grade": false,
     "grade_id": "cell-9f2c8647014ac9bb",
     "locked": true,
     "schema_version": 3,
     "solution": false,
     "task": false
    }
   },
   "source": [
    "## Implementing Heuristics\n",
    "\n",
    "Here, you first have to implement several heuristics. More precisely, we look at the City Block, Euclidean, and Chebyshev distance. We discussed how these distances are computed in class, so make sure to check out the slides if you cannot recall them.\n",
    "\n",
    "For comparison, we also provide you with a random distance heuristic - feel free to use them for debugging your implementations if it helps! "
   ]
  },
  {
   "cell_type": "code",
   "metadata": {
    "deletable": false,
    "nbgrader": {
     "cell_type": "code",
     "checksum": "859bbb736254964fe70b6c73998c7b9a",
     "grade": false,
     "grade_id": "cell-37c3f36c850cc52c",
     "locked": false,
     "schema_version": 3,
     "solution": true,
     "task": false
    },
    "ExecuteTime": {
     "end_time": "2024-11-11T09:35:22.651401Z",
     "start_time": "2024-11-11T09:35:22.644882Z"
    }
   },
   "source": [
    "# this is a random heuristic - it returns a random number as the distance between two nodes\n",
    "# we use it for testing - you can also use it for debbuging if you want\n",
    "def random_heuristic(current: Node, goal: Node):\n",
    "    return random.random()\n",
    "\n",
    "def cityblock_heuristic(current: Node, goal: Node):\n",
    "    return abs(goal.state[0] - current.state[0]) + abs(goal.state[1] - current.state[1])\n",
    "\n",
    "def euclidean_heuristic(current: Node, goal: Node):\n",
    "    return math.sqrt((goal.state[0] - current.state[0]) ** 2 + (goal.state[1] - current.state[1]) ** 2)\n",
    "\n",
    "def chebyshev_heuristic(current: Node, goal: Node):\n",
    "    return max(abs(goal.state[0] - current.state[0]), abs(goal.state[1] - current.state[1]))"
   ],
   "outputs": [],
   "execution_count": 2
  },
  {
   "cell_type": "markdown",
   "metadata": {},
   "source": [
    "### Check City Block Heuristic"
   ]
  },
  {
   "cell_type": "code",
   "metadata": {
    "deletable": false,
    "editable": false,
    "nbgrader": {
     "cell_type": "code",
     "checksum": "34a1a74bf92760b75b38ae85b0dbbc17",
     "grade": true,
     "grade_id": "cell-9bf0ab82cd12f045",
     "locked": true,
     "points": 1,
     "schema_version": 3,
     "solution": false,
     "task": false
    },
    "slideshow": {
     "slide_type": ""
    },
    "tags": [],
    "ExecuteTime": {
     "end_time": "2024-11-11T09:35:24.325329Z",
     "start_time": "2024-11-11T09:35:24.317481Z"
    }
   },
   "source": [
    "# this is a testing cell, do not edit or delete\n",
    "\n",
    "maze = ProblemFactory().create_problem_from_json(json_path='boards/tiny0.json')\n",
    "\n",
    "assert(cityblock_heuristic(maze.get_start_node(), maze.get_end_node()) != -1), \"it seems like you might not have implemented this heuristic yet, the distance is -1\"\n"
   ],
   "outputs": [],
   "execution_count": 3
  },
  {
   "cell_type": "markdown",
   "metadata": {},
   "source": [
    "### Check Euclidean Heuristic"
   ]
  },
  {
   "cell_type": "code",
   "metadata": {
    "deletable": false,
    "editable": false,
    "nbgrader": {
     "cell_type": "code",
     "checksum": "e83e5ef8f2e388441e7db4b18116565c",
     "grade": true,
     "grade_id": "cell-30cd5ba142359b7e",
     "locked": true,
     "points": 1,
     "schema_version": 3,
     "solution": false,
     "task": false
    },
    "slideshow": {
     "slide_type": ""
    },
    "tags": [],
    "ExecuteTime": {
     "end_time": "2024-11-11T09:35:26.086448Z",
     "start_time": "2024-11-11T09:35:26.082764Z"
    }
   },
   "source": [
    "# this is a testing cell, do not edit or delete\n",
    "\n",
    "maze = ProblemFactory().create_problem_from_json(json_path='boards/tiny0.json')\n",
    "\n",
    "assert(euclidean_heuristic(maze.get_start_node(), maze.get_end_node()) != -1), \"it seems like you might not have implemented this heuristic yet, the distance is -1\"\n"
   ],
   "outputs": [],
   "execution_count": 4
  },
  {
   "cell_type": "markdown",
   "metadata": {},
   "source": [
    "### Check Chebyshev Heuristic"
   ]
  },
  {
   "cell_type": "code",
   "metadata": {
    "deletable": false,
    "editable": false,
    "nbgrader": {
     "cell_type": "code",
     "checksum": "1cc3fec1c7c9b5d4e0514062c6fe9736",
     "grade": true,
     "grade_id": "cell-7d395cfb4952c216",
     "locked": true,
     "points": 1,
     "schema_version": 3,
     "solution": false,
     "task": false
    },
    "slideshow": {
     "slide_type": ""
    },
    "tags": [],
    "ExecuteTime": {
     "end_time": "2024-11-11T09:35:27.051037Z",
     "start_time": "2024-11-11T09:35:27.047816Z"
    }
   },
   "source": [
    "# this is a testing cell, do not edit or delete\n",
    "\n",
    "maze = ProblemFactory().create_problem_from_json(json_path='boards/tiny0.json')\n",
    "\n",
    "assert(chebyshev_heuristic(maze.get_start_node(), maze.get_end_node()) != -1), \"it seems like you might not have implemented this heuristic yet, the distance is -1\"\n"
   ],
   "outputs": [],
   "execution_count": 5
  },
  {
   "cell_type": "markdown",
   "metadata": {},
   "source": [
    "## Implementing GBFS\n"
   ]
  },
  {
   "cell_type": "code",
   "metadata": {
    "deletable": false,
    "editable": true,
    "nbgrader": {
     "cell_type": "code",
     "checksum": "7bee6ac90311934e70180be437ba5043",
     "grade": false,
     "grade_id": "cell-d09ad07d2e0d6517",
     "locked": false,
     "schema_version": 3,
     "solution": true,
     "task": false
    },
    "slideshow": {
     "slide_type": ""
    },
    "tags": [],
    "ExecuteTime": {
     "end_time": "2024-11-11T09:40:58.502097Z",
     "start_time": "2024-11-11T09:40:58.307209Z"
    }
   },
   "source": [
    "class GBFS(object):\n",
    "    def __init__(self, heuristic):\n",
    "        self.heuristic = heuristic\n",
    "        self.visited = None\n",
    "        self.fringe = None\n",
    "    \n",
    "    def solve(self, problem: Problem):\n",
    "        # make sure to initialise self.visited and self.fringe here! \n",
    "        # YOUR CODE HERE\n",
    "        self.visited = set()\n",
    "        self.fringe = PriorityQueue()\n",
    "\n",
    "        # Get the start node from the problem\n",
    "        start_node = problem.get_start_node()\n",
    "        \n",
    "        # Add the start node to the fringe with its heuristic value\n",
    "        self.fringe.put(self.heuristic(start_node, start_node), start_node)  # heuristic to itself is zero\n",
    "        \n",
    "        # Perform the GBFS search\n",
    "        while self.fringe.has_elements():\n",
    "            # Get the node with the smallest heuristic value\n",
    "            current_node = self.fringe.get()\n",
    "\n",
    "            # Check if we reached the goal\n",
    "            if problem.is_end(current_node):\n",
    "                return current_node  # Solution found\n",
    "\n",
    "            # Mark current node as visited\n",
    "            self.visited.add(current_node)\n",
    "\n",
    "            # Explore successors of the current node\n",
    "            for successor in problem.successors(current_node):\n",
    "                if successor not in self.visited:\n",
    "                    # Calculate heuristic and add to the fringe\n",
    "                    priority = self.heuristic(successor, current_node)\n",
    "                    self.fringe.put(priority, successor)\n",
    "                    self.visited.add(successor)  # Mark successor as visited\n",
    "\n",
    "        return None  # Return None if no solution is found\n",
    "\n",
    "# reset maze before search\n",
    "maze.reset()\n",
    "gbfs_rand = GBFS(random_heuristic)\n",
    "gbfs_rand_sol = gbfs_rand.solve(maze)\n",
    "if gbfs_rand_sol is not None: \n",
    "    gbfs_rand_sol.pretty_print()\n",
    "    maze.visualize(sequences=[('gbfs rand', \"\".join(maze.get_action_sequence(gbfs_rand_sol)))])"
   ],
   "outputs": [
    {
     "name": "stdout",
     "output_type": "stream",
     "text": [
      "state (4, 4) was reached following the sequence ['R', 'D', 'D', 'R', 'R', 'D', 'D'] (cost: 17, depth: 7)\n"
     ]
    },
    {
     "data": {
      "text/plain": [
       "<Figure size 1000x700 with 4 Axes>"
      ],
      "image/png": "[encoded data removed]"
     },
     "metadata": {},
     "output_type": "display_data"
    }
   ],
   "execution_count": 9
  },
  {
   "cell_type": "markdown",
   "metadata": {
    "editable": true,
    "slideshow": {
     "slide_type": ""
    },
    "tags": []
   },
   "source": [
    "### Basic checks"
   ]
  },
  {
   "cell_type": "code",
   "metadata": {
    "deletable": false,
    "editable": false,
    "nbgrader": {
     "cell_type": "code",
     "checksum": "8ef06b57bd361af60671fe2422ade4cd",
     "grade": true,
     "grade_id": "cell-33642543af658c78",
     "locked": true,
     "points": 1,
     "schema_version": 3,
     "solution": false,
     "task": false
    },
    "slideshow": {
     "slide_type": ""
    },
    "tags": [],
    "ExecuteTime": {
     "end_time": "2024-11-11T09:41:57.738847Z",
     "start_time": "2024-11-11T09:41:57.732604Z"
    }
   },
   "source": [
    "# this is a testing cell, do not edit or delete\n",
    "\n",
    "assert(gbfs_rand_sol is not None), \"GBFS did not return a solution\"\n",
    "assert(gbfs_rand_sol.state == (4, 4)), \"GBFS did not return the expected solution\"\n"
   ],
   "outputs": [],
   "execution_count": 10
  },
  {
   "cell_type": "markdown",
   "metadata": {
    "editable": true,
    "slideshow": {
     "slide_type": ""
    },
    "tags": []
   },
   "source": [
    "### Check visited set"
   ]
  },
  {
   "cell_type": "code",
   "metadata": {
    "deletable": false,
    "editable": false,
    "nbgrader": {
     "cell_type": "code",
     "checksum": "ff6211750fd2c8b27ad8e878e80d102f",
     "grade": true,
     "grade_id": "cell-939767fbdafb9120",
     "locked": true,
     "points": 1,
     "schema_version": 3,
     "solution": false,
     "task": false
    },
    "slideshow": {
     "slide_type": ""
    },
    "tags": [],
    "ExecuteTime": {
     "end_time": "2024-11-11T09:41:58.588371Z",
     "start_time": "2024-11-11T09:41:58.586604Z"
    }
   },
   "source": [
    "# this is a testing cell, do not edit or delete\n",
    "\n",
    "assert(gbfs_rand.visited is not None), \"it seems you did not correctly initialize the visited set\"\n"
   ],
   "outputs": [],
   "execution_count": 11
  },
  {
   "cell_type": "markdown",
   "metadata": {},
   "source": [
    "### Check fringe"
   ]
  },
  {
   "cell_type": "code",
   "metadata": {
    "deletable": false,
    "editable": false,
    "nbgrader": {
     "cell_type": "code",
     "checksum": "226895efe211d87809d065e7063bc493",
     "grade": true,
     "grade_id": "cell-791895377af34b35",
     "locked": true,
     "points": 1,
     "schema_version": 3,
     "solution": false,
     "task": false
    },
    "slideshow": {
     "slide_type": ""
    },
    "tags": [],
    "ExecuteTime": {
     "end_time": "2024-11-11T09:41:59.683529Z",
     "start_time": "2024-11-11T09:41:59.681350Z"
    }
   },
   "source": [
    "# this is a testing cell, do not edit or delete\n",
    "\n",
    "assert(gbfs_rand.fringe is not None), \"it seems you did not correctly initialize the fringe\"\n"
   ],
   "outputs": [],
   "execution_count": 12
  },
  {
   "cell_type": "markdown",
   "metadata": {},
   "source": [
    "## Implementing A*\n"
   ]
  },
  {
   "cell_type": "code",
   "metadata": {
    "deletable": false,
    "nbgrader": {
     "cell_type": "code",
     "checksum": "657fb6a193dfc8666fc3180462c46507",
     "grade": false,
     "grade_id": "cell-d2df9b0e3d90cf00",
     "locked": false,
     "schema_version": 3,
     "solution": true,
     "task": false
    },
    "ExecuteTime": {
     "end_time": "2024-11-11T09:42:54.175898Z",
     "start_time": "2024-11-11T09:42:53.979872Z"
    }
   },
   "source": [
    "class ASTAR(object):\n",
    "    def __init__(self, heuristic):\n",
    "        self.heuristic = heuristic\n",
    "        self.visited = None\n",
    "        self.fringe = None\n",
    "    \n",
    "    def solve(self, problem: Problem):\n",
    "        # make sure to initialise self.visited and self.fringe here! \n",
    "        # YOUR CODE HERE\n",
    "        self.visited = {}\n",
    "        self.fringe = PriorityQueue()\n",
    "\n",
    "        # Get the start node from the problem\n",
    "        start_node = problem.get_start_node()\n",
    "        \n",
    "        # Initialize the g-cost for the start node\n",
    "        g_cost = {start_node: 0}\n",
    "        \n",
    "        # Calculate f-cost (g + h) and add the start node to the fringe\n",
    "        start_priority = g_cost[start_node] + self.heuristic(start_node, start_node)\n",
    "        self.fringe.put(start_priority, start_node)\n",
    "        \n",
    "        # Perform the A* search\n",
    "        while self.fringe.has_elements():\n",
    "            # Get the node with the smallest f-cost\n",
    "            current_node = self.fringe.get()\n",
    "\n",
    "            # Check if we reached the goal\n",
    "            if problem.is_end(current_node):\n",
    "                return current_node  # Solution found\n",
    "            \n",
    "            # Mark current node as visited\n",
    "            self.visited[current_node] = g_cost[current_node]\n",
    "\n",
    "            # Explore successors of the current node\n",
    "            for successor in problem.successors(current_node):\n",
    "                # Calculate g-cost for successor\n",
    "                new_g_cost = g_cost[current_node] + successor.cost  # Assuming each node has a `cost` attribute\n",
    "\n",
    "                # If this path to the successor is better, or successor has not been visited\n",
    "                if successor not in g_cost or new_g_cost < g_cost[successor]:\n",
    "                    g_cost[successor] = new_g_cost  # Update g-cost for successor\n",
    "                    f_cost = new_g_cost + self.heuristic(successor, current_node)  # f = g + h\n",
    "                    self.fringe.put(f_cost, successor)  # Add successor with its f-cost to the fringe\n",
    "\n",
    "        return None  # Return None if no solution is found\n",
    "\n",
    "# reset maze before search\n",
    "maze.reset()\n",
    "astar_rand = ASTAR(random_heuristic)\n",
    "astar_rand_sol = astar_rand.solve(maze)\n",
    "if astar_rand_sol is not None: \n",
    "    astar_rand_sol.pretty_print()\n",
    "    maze.visualize(sequences=[('astar rand', \"\".join(maze.get_action_sequence(astar_rand_sol)))])"
   ],
   "outputs": [
    {
     "name": "stdout",
     "output_type": "stream",
     "text": [
      "state (4, 4) was reached following the sequence ['R', 'D', 'D', 'D', 'D', 'R', 'R'] (cost: 16, depth: 7)\n"
     ]
    },
    {
     "data": {
      "text/plain": [
       "<Figure size 1000x700 with 4 Axes>"
      ],
      "image/png": "[encoded data removed]"
     },
     "metadata": {},
     "output_type": "display_data"
    }
   ],
   "execution_count": 13
  },
  {
   "cell_type": "markdown",
   "metadata": {},
   "source": [
    "### Basic checks"
   ]
  },
  {
   "cell_type": "code",
   "metadata": {
    "deletable": false,
    "editable": false,
    "nbgrader": {
     "cell_type": "code",
     "checksum": "c8f94eb07ab3bb6d365396fec48c0a01",
     "grade": true,
     "grade_id": "cell-a755d290a7174b17",
     "locked": true,
     "points": 1,
     "schema_version": 3,
     "solution": false,
     "task": false
    },
    "slideshow": {
     "slide_type": ""
    },
    "tags": [],
    "ExecuteTime": {
     "end_time": "2024-11-11T09:42:59.323862Z",
     "start_time": "2024-11-11T09:42:59.320876Z"
    }
   },
   "source": [
    "# this is a testing cell, do not edit or delete\n",
    "\n",
    "assert(astar_rand_sol is not None), \"A* did not return a solution\"\n",
    "assert(astar_rand_sol.state == (4, 4)), \"A* did not return the expected solution\"\n"
   ],
   "outputs": [],
   "execution_count": 14
  },
  {
   "cell_type": "markdown",
   "metadata": {},
   "source": [
    "### Check visited set"
   ]
  },
  {
   "cell_type": "code",
   "metadata": {
    "deletable": false,
    "editable": false,
    "nbgrader": {
     "cell_type": "code",
     "checksum": "fb88e4d4108a9e213a71ac3e78112a29",
     "grade": true,
     "grade_id": "cell-732ae3b028a69b19",
     "locked": true,
     "points": 1,
     "schema_version": 3,
     "solution": false,
     "task": false
    },
    "slideshow": {
     "slide_type": ""
    },
    "tags": [],
    "ExecuteTime": {
     "end_time": "2024-11-11T09:43:01.235650Z",
     "start_time": "2024-11-11T09:43:01.233567Z"
    }
   },
   "source": [
    "# this is a testing cell, do not edit or delete\n",
    "\n",
    "assert(astar_rand.visited is not None), \"it seems you did not correctly initialize the visited set\"\n"
   ],
   "outputs": [],
   "execution_count": 15
  },
  {
   "cell_type": "markdown",
   "metadata": {},
   "source": [
    "### Check fringe"
   ]
  },
  {
   "cell_type": "code",
   "metadata": {
    "deletable": false,
    "editable": false,
    "nbgrader": {
     "cell_type": "code",
     "checksum": "94e395eecb5393c3c06dbfd6a5efa2bb",
     "grade": true,
     "grade_id": "cell-9dd3910faf41b7f0",
     "locked": true,
     "points": 1,
     "schema_version": 3,
     "solution": false,
     "task": false
    },
    "slideshow": {
     "slide_type": ""
    },
    "tags": [],
    "ExecuteTime": {
     "end_time": "2024-11-11T09:43:02.363289Z",
     "start_time": "2024-11-11T09:43:02.361486Z"
    }
   },
   "source": [
    "# this is a testing cell, do not edit or delete\n",
    "\n",
    "assert(astar_rand.fringe is not None), \"it seems you did not correctly initialize the fringe\"\n"
   ],
   "outputs": [],
   "execution_count": 16
  },
  {
   "cell_type": "markdown",
   "metadata": {
    "deletable": false,
    "editable": false,
    "nbgrader": {
     "cell_type": "markdown",
     "checksum": "f3fff1d1cc3c209b8b28fbdd56d1be03",
     "grade": false,
     "grade_id": "cell-68b7e9fdfa1598b9",
     "locked": true,
     "schema_version": 3,
     "solution": false,
     "task": false
    }
   },
   "source": [
    "# Additional tests\n",
    "\n",
    "<div class=\"alert alert-danger\">\n",
    "    <strong>Attention!</strong> Do not change anything below this point!\n",
    "</div>"
   ]
  },
  {
   "cell_type": "markdown",
   "metadata": {},
   "source": [
    "## GBFS"
   ]
  },
  {
   "cell_type": "code",
   "execution_count": null,
   "metadata": {
    "deletable": false,
    "editable": false,
    "nbgrader": {
     "cell_type": "code",
     "checksum": "ac63b11e51ee9d3973207e5c4b7707a3",
     "grade": true,
     "grade_id": "cell-ae3066efbf1abd87",
     "locked": true,
     "points": 0.5,
     "schema_version": 3,
     "solution": false,
     "task": false
    },
    "slideshow": {
     "slide_type": ""
    },
    "tags": []
   },
   "outputs": [],
   "source": []
  },
  {
   "cell_type": "code",
   "execution_count": null,
   "metadata": {
    "deletable": false,
    "editable": false,
    "nbgrader": {
     "cell_type": "code",
     "checksum": "6341863719cf650d0ea3c334358823f5",
     "grade": true,
     "grade_id": "cell-db152198f4515796",
     "locked": true,
     "points": 0.5,
     "schema_version": 3,
     "solution": false,
     "task": false
    }
   },
   "outputs": [],
   "source": []
  },
  {
   "cell_type": "code",
   "execution_count": null,
   "metadata": {
    "deletable": false,
    "editable": false,
    "nbgrader": {
     "cell_type": "code",
     "checksum": "efe59c6494e5f0ff69c3e667cfb6bf42",
     "grade": true,
     "grade_id": "cell-8fdbf6cce29d0e2a",
     "locked": true,
     "points": 0.5,
     "schema_version": 3,
     "solution": false,
     "task": false
    }
   },
   "outputs": [],
   "source": []
  },
  {
   "cell_type": "code",
   "execution_count": null,
   "metadata": {
    "deletable": false,
    "editable": false,
    "nbgrader": {
     "cell_type": "code",
     "checksum": "47e8c646b9991ba2e1efc26ed43a71fd",
     "grade": true,
     "grade_id": "cell-1db11bbb4212e83d",
     "locked": true,
     "points": 0.5,
     "schema_version": 3,
     "solution": false,
     "task": false
    }
   },
   "outputs": [],
   "source": []
  },
  {
   "cell_type": "code",
   "execution_count": null,
   "metadata": {
    "deletable": false,
    "editable": false,
    "nbgrader": {
     "cell_type": "code",
     "checksum": "2a76a68efd16dd225accc5b993e11f8e",
     "grade": true,
     "grade_id": "cell-0e8036184401604e",
     "locked": true,
     "points": 0.5,
     "schema_version": 3,
     "solution": false,
     "task": false
    }
   },
   "outputs": [],
   "source": []
  },
  {
   "cell_type": "code",
   "execution_count": null,
   "metadata": {
    "deletable": false,
    "editable": false,
    "nbgrader": {
     "cell_type": "code",
     "checksum": "d297f429ac0ad3bd683012ad4f318745",
     "grade": true,
     "grade_id": "cell-900e396bd7fa8958",
     "locked": true,
     "points": 0.5,
     "schema_version": 3,
     "solution": false,
     "task": false
    }
   },
   "outputs": [],
   "source": []
  },
  {
   "cell_type": "markdown",
   "metadata": {},
   "source": [
    "## A*"
   ]
  },
  {
   "cell_type": "code",
   "execution_count": null,
   "metadata": {
    "deletable": false,
    "editable": false,
    "nbgrader": {
     "cell_type": "code",
     "checksum": "04ff3d760844be4ddc36e7b09ffdc5ec",
     "grade": true,
     "grade_id": "cell-68702797ea5b6849",
     "locked": true,
     "points": 0.5,
     "schema_version": 3,
     "solution": false,
     "task": false
    },
    "slideshow": {
     "slide_type": ""
    },
    "tags": []
   },
   "outputs": [],
   "source": []
  },
  {
   "cell_type": "code",
   "execution_count": null,
   "metadata": {
    "deletable": false,
    "editable": false,
    "nbgrader": {
     "cell_type": "code",
     "checksum": "c6021b784dcd785d16c733dae7205b6d",
     "grade": true,
     "grade_id": "cell-0de1bd74e742f9e0",
     "locked": true,
     "points": 0.5,
     "schema_version": 3,
     "solution": false,
     "task": false
    }
   },
   "outputs": [],
   "source": []
  },
  {
   "cell_type": "code",
   "execution_count": null,
   "metadata": {
    "deletable": false,
    "editable": false,
    "nbgrader": {
     "cell_type": "code",
     "checksum": "bca0d6c56ca9475efb4eec9ff0b18405",
     "grade": true,
     "grade_id": "cell-64c86a0262c4475d",
     "locked": true,
     "points": 0.5,
     "schema_version": 3,
     "solution": false,
     "task": false
    }
   },
   "outputs": [],
   "source": []
  },
  {
   "cell_type": "code",
   "execution_count": null,
   "metadata": {
    "deletable": false,
    "editable": false,
    "nbgrader": {
     "cell_type": "code",
     "checksum": "32bef2a2dc5ecd966e3e6e3f29209fd4",
     "grade": true,
     "grade_id": "cell-2af20325ececdc6f",
     "locked": true,
     "points": 0.5,
     "schema_version": 3,
     "solution": false,
     "task": false
    }
   },
   "outputs": [],
   "source": []
  },
  {
   "cell_type": "code",
   "execution_count": null,
   "metadata": {
    "deletable": false,
    "editable": false,
    "nbgrader": {
     "cell_type": "code",
     "checksum": "63ba5b18a7d03d3fa5ea1e9136beff17",
     "grade": true,
     "grade_id": "cell-f2ad770abd459722",
     "locked": true,
     "points": 0.5,
     "schema_version": 3,
     "solution": false,
     "task": false
    }
   },
   "outputs": [],
   "source": []
  },
  {
   "cell_type": "code",
   "execution_count": null,
   "metadata": {
    "deletable": false,
    "editable": false,
    "nbgrader": {
     "cell_type": "code",
     "checksum": "baed8f4ee3b471f0df4721db4143abaf",
     "grade": true,
     "grade_id": "cell-c099857f831b0c3a",
     "locked": true,
     "points": 0.5,
     "schema_version": 3,
     "solution": false,
     "task": false
    }
   },
   "outputs": [],
   "source": []
  }
 ],
 "metadata": {
  "kernelspec": {
   "display_name": "Python 3 (ipykernel)",
   "language": "python",
   "name": "python3"
  },
  "language_info": {
   "codemirror_mode": {
    "name": "ipython",
    "version": 3
   },
   "file_extension": ".py",
   "mimetype": "text/x-python",
   "name": "python",
   "nbconvert_exporter": "python",
   "pygments_lexer": "ipython3",
   "version": "3.12.6"
  }
 },
 "nbformat": 4,
 "nbformat_minor": 4
}
