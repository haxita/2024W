{
 "cells": [
  {
   "cell_type": "markdown",
   "metadata": {
    "deletable": false,
    "editable": false,
    "nbgrader": {
     "cell_type": "markdown",
     "checksum": "8fc39965b6622422f3e9a7409a28262e",
     "grade": false,
     "grade_id": "cell-9591a7a11d17850b",
     "locked": true,
     "schema_version": 3,
     "solution": false,
     "task": false
    }
   },
   "source": [
    "<h1 style=\"color:rgb(0,120,170)\">Assignment 5: Ensemble Methods</h1>"
   ]
  },
  {
   "cell_type": "markdown",
   "metadata": {
    "deletable": false,
    "editable": false,
    "nbgrader": {
     "cell_type": "markdown",
     "checksum": "9335362f42f36e44a272b6ff02c3a848",
     "grade": false,
     "grade_id": "cell-a4482238d7595afd",
     "locked": true,
     "schema_version": 3,
     "solution": false,
     "task": false
    }
   },
   "source": [
    "<h2 style=\"color:rgb(0,120,170)\">Copyright and Fair Use</h2>\n",
    "\n",
    "This material, no matter whether in printed or electronic form,\n",
    "may be used for personal and non-commercial educational use\n",
    "only. Any reproduction of this material, no matter whether as a\n",
    "whole or in parts, no matter whether in printed or in electronic\n",
    "form, requires explicit prior acceptance of the authors."
   ]
  },
  {
   "cell_type": "markdown",
   "metadata": {
    "deletable": false,
    "editable": false,
    "nbgrader": {
     "cell_type": "markdown",
     "checksum": "1603b5ed6201670fd3f04b8383edc0b2",
     "grade": false,
     "grade_id": "cell-59f1bb11865097a3",
     "locked": true,
     "schema_version": 3,
     "solution": false,
     "task": false
    }
   },
   "source": [
    "<h2 style=\"color:rgb(0,120,170)\">Automatic Testing Guidelines</h2>\n",
    "\n",
    "Automatic unittesting requires you to submit a notebook which contains strictly defined objects.\n",
    "Strictness of definition consists of unified shapes, dtypes, variable names and more.\n",
    "\n",
    "Within the notebook, we provide detailed instruction which you should follow in order to maximise your final grade.\n",
    "\n",
    "**Name your notebook properly**, follow the pattern in the template name:\n",
    "\n",
    "**Assignment_N_NameSurname_matrnumber**\n",
    "<ol>\n",
    "    <li>N - number of assignment</li>\n",
    "    <li>NameSurname - your full name where every part of the name starts with a capital letter, no spaces</li>\n",
    "    <li>matrnumber - you student number on ID card (with k, potentially with a leading zero)</li>\n",
    "</ol>\n",
    "\n",
    "Don't add any cells but use the ones provided by us. All cells have a unique ID so that the unit test can find it, so please do not add or remove any cell!\n",
    "\n",
    "Always make sure that implemented functions have the correct output and given variables contain the correct data type. In the descriptions for every function you can find information on what datatype an output should have and you should stick to that in order to minimize conflicts with the unittest. Don't import any other packages than listed in the cell with the \"imports\" tag.\n",
    "\n",
    "Questions are usually multiple choice (except the task description says otherwise) and can be answered by changing the given variables to either \"True\" or \"False\". \"None\" is counted as a wrong answer in any case!\n",
    "\n",
    "**Note:** Never use variables you defined in another cell in your functions directly; always pass them to the function as a parameter. In the unitest, they won't be available either. If you want to make sure that everything is executable for the unittest, try executing cells/functions individually (instead of running the whole notebook)."
   ]
  },
  {
   "cell_type": "markdown",
   "metadata": {
    "deletable": false,
    "editable": false,
    "nbgrader": {
     "cell_type": "markdown",
     "checksum": "f254d6d011484323c11d2881fe4455f0",
     "grade": false,
     "grade_id": "cell-e17d926422e0f931",
     "locked": true,
     "schema_version": 3,
     "solution": false,
     "task": false
    }
   },
   "source": [
    "<h2 style=\"color:rgb(0,120,170)\">Task 1: AdaBoostM1 is an instance of forward stagewise modelling</h2>\n",
    "\n",
    "\n",
    "In the lecture it was mentioned that one of the first boosting algorithms, i.e. AdaBoostM1, is equivalent to forward stagewise modelling using the exponential loss $L(y,g(\\mathbf{x}))=\\exp(-yg(\\mathbf{x}))$ for a binary classification problem ( $y\\in \\left\\{ -1,1 \\right\\}$ ). In this task we intend to provide proof of this fact. We will guide you through the most important steps and you will have to add some details.\n",
    "\n",
    "For AdaBoostM1, the basis functions at timestep $n$ are the individual classifiers $b_n(\\mathbf{x}) \\in \\left\\{ -1,1 \\right\\}$. We assume that all of them are slightly better than random guessing. Note that we use $b_n$ here for the resulting classifier at timestep $n$, which differs slightly from the notation in the slides, mainly to not confuse it with the corresponding approximation from forward stagewise modelling, which is also called $g_n$ there. \n",
    "\n",
    "Using the exponential loss in each timestep $n$ we have to solve \n",
    "$$(\\beta_n,b_n)= \\arg \\min_{\\beta,b} \\sum_{i=1}^l \\exp(-y_i(g_{n-1}(\\mathbf{x}_i)+\\beta b(\\mathbf{x}_i)),$$ for the classifier $b_n$ and the coefficient $\\beta_n$ which are added at each step. This can be rewritten as\n",
    "$$(\\beta_n,b_n)= \\arg \\min_{\\beta,b} \\sum_{i=1}^l w_i^{(n)} \\exp(-y_i \\beta b(\\mathbf{x}_i)), \\qquad (1)$$ with $w_i^{(n)}=\\exp(-y_i g_{n-1}(\\mathbf{x}_i))$. Since each $w^{(n)}_i$ depends neither on $\\beta$ nor $b$, it can be regarded as a weight that is applied to each observation. This weight depends on $g_{n−1}(\\mathbf{x}_i)$, and so the individual weight values change with each iteration $n$. The solution of (1) can be found in two steps:"
   ]
  },
  {
   "cell_type": "markdown",
   "metadata": {
    "deletable": false,
    "editable": false,
    "nbgrader": {
     "cell_type": "markdown",
     "checksum": "b8ce598eafc26621452ffcc70095c75a",
     "grade": false,
     "grade_id": "cell-31e52776a88c7dd6",
     "locked": true,
     "schema_version": 3,
     "solution": false,
     "task": false
    }
   },
   "source": [
    "<h3 style=\"color:rgb(210,90,80)\">Calculation 1.1 (10 Points):</h3>\n",
    "\n",
    "In the **first step** fix $\\beta \\geq 0$ and show that in this case the solution to (1) is $b_n=\\arg \\min_{b} \\sum_{i=1}^l w_i^{(n)} I(b(\\mathbf{x}_i) \\ne y_i)$. Hints:<ol>\n",
    "<li>Try to write the expressions in (1) after $\\arg \\min$ in the form $\\sum_{b(\\mathbf{x}_i)=y_i}(...)+\\sum_{b(\\mathbf{x}_i)\\ne y_i}(...)$. <br>Find the right expressions for (...), such that the product $b(\\mathbf{x}_i)y_i$ doesn't appear there anymore.<br><br>\n",
    "<li>Now show that this can be written as <br>$(\\exp(\\beta)-\\exp(-\\beta))\\sum_{b(\\mathbf{x}_i)\\ne y_i}w_i^{(n)}+ \\exp(-\\beta) \\sum_{i=1}^l w_i^{(n)}.\\qquad (2)$ <br>The equation $\\sum_{i} w_i^{(n)} = \\sum_{b(\\mathbf{x}_i)\\ne y_i}w_i^{(n)} + \\sum_{b(\\mathbf{x}_i)= y_i}w_i^{(n)}$ might be helpful.<br><br>    \n",
    "<li>Argue why this already implies the claim, i.e., the solution to (1) is $b_n=\\arg \\min_{b} \\sum_{i=1}^l w_i^{(n)} I(b(\\mathbf{x}_i) \\ne y_i)$.</li></ol>\n",
    "    \n",
    "\n",
    "**Please provide reasoning and explanations in full sentences. Grading of the task will heavily depend on it.**"
   ]
  },
  {
   "cell_type": "markdown",
   "metadata": {
    "deletable": false,
    "editable": true,
    "nbgrader": {
     "cell_type": "markdown",
     "checksum": "2a7a3f0559b84468d463be942de7db59",
     "grade": true,
     "grade_id": "calc_1_1",
     "locked": false,
     "points": 10,
     "schema_version": 3,
     "solution": true,
     "task": false
    },
    "slideshow": {
     "slide_type": ""
    },
    "tags": []
   },
   "source": [
    "YOUR ANSWER HERE"
   ]
  },
  {
   "cell_type": "markdown",
   "metadata": {
    "deletable": false,
    "editable": false,
    "nbgrader": {
     "cell_type": "markdown",
     "checksum": "dfdbb3f552840c6bdb0b6acbdc2aea87",
     "grade": false,
     "grade_id": "cell-69344d4a54f03695",
     "locked": true,
     "schema_version": 3,
     "solution": false,
     "task": false
    },
    "slideshow": {
     "slide_type": ""
    },
    "tags": []
   },
   "source": [
    "<h3 style=\"color:rgb(210,90,80)\">Calculation 1.2 (20 Points):</h3>\n",
    "\n",
    "\n",
    "In the **second step** you need to optimize the following expression with respect to $\\beta$:$$(\\exp(\\beta)-\\exp(-\\beta))\\sum_{b_n(\\mathbf{x}_i)\\ne y_i}w_i^{(n)}+ \\exp(-\\beta) \\sum_{i=1}^l w_i^{(n)}$$ Hint: do it in the usual way (i.e. by differentiating the expression and setting it to $0$). <br><br>\n",
    "Using the abbreviation $\\text{err}_n= \\frac{\\sum_{i=1}^l w_i^{(n)} I(y_i \\ne b_n(\\mathbf{x}_i))}{\\sum_{i=1}^l w_i^{(n)}}$ show that the obtained expression is $\\beta_n=\\frac12 \\ln \\frac{1-\\text{err}_n}{\\text{err}_n}$. <br>\n",
    "Note that $\\beta_n \\geq 0$, by our assumption that all classifiers are better than random guessing, i.e. $\\text{err}_n \\le \\frac12$, so the result is in accordance with the previous subtask.\n",
    "\n",
    "**Please provide reasoning and explanations in full sentences. Grading of the task will heavily depend on it.**"
   ]
  },
  {
   "cell_type": "markdown",
   "metadata": {
    "deletable": false,
    "nbgrader": {
     "cell_type": "markdown",
     "checksum": "0f218d42b363b7432c26481ef8f9e820",
     "grade": true,
     "grade_id": "calc_1_2",
     "locked": false,
     "points": 20,
     "schema_version": 3,
     "solution": true,
     "task": false
    }
   },
   "source": [
    "YOUR ANSWER HERE"
   ]
  },
  {
   "cell_type": "markdown",
   "metadata": {
    "deletable": false,
    "editable": false,
    "nbgrader": {
     "cell_type": "markdown",
     "checksum": "26a8698fcc0ec004b1c694cd2c577dbb",
     "grade": false,
     "grade_id": "cell-54a204c3849d8fd1",
     "locked": true,
     "schema_version": 3,
     "solution": false,
     "task": false
    },
    "slideshow": {
     "slide_type": ""
    },
    "tags": []
   },
   "source": [
    "<h3 style=\"color:rgb(210,90,80)\">Calculation 1.3 (10 Points):</h3>\n",
    "\n",
    "In the **final step** we can update the approximation as follows: $g_n(\\mathbf{x})=g_{n-1}(\\mathbf{x})+\\beta_n b_n(\\mathbf{x})$. To finish the proof proceed by deriving the following relations:\n",
    "<ol>\n",
    "    <li>The weights for the next generation can be computed as follows: $w_i^{(n+1)}=w_i^{(n)} \\exp(-y_i \\beta_n b_n(\\mathbf{x}))$.</li>\n",
    "    <li>$-y_i b_n(\\mathbf{x})=2I(y_i \\ne b_n(\\mathbf{x}_i))-1$</li>\n",
    "    <li>Use these two relations to show that: $$w_i^{(n+1)}=w_i^{(n)} \\exp(-\\beta_n) \\exp(\\alpha_n I(y_i \\ne b_n(\\mathbf{x}_i))) \\qquad (2)$$ where $\\alpha_n=2\\beta_n$ is the $\\alpha_n$ from the AdaBoostM1 algorithm from the lecture.</li>\n",
    "</ol>\n",
    "\n",
    "**Please provide reasoning and explanations in full sentences. Grading of the task will heavily depend on it.**"
   ]
  },
  {
   "cell_type": "markdown",
   "metadata": {
    "deletable": false,
    "editable": true,
    "nbgrader": {
     "cell_type": "markdown",
     "checksum": "49d317b8340f5e8b2e8cbc4798a23642",
     "grade": true,
     "grade_id": "calc_1_3",
     "locked": false,
     "points": 10,
     "schema_version": 3,
     "solution": true,
     "task": false
    },
    "slideshow": {
     "slide_type": ""
    },
    "tags": []
   },
   "source": [
    "YOUR ANSWER HERE"
   ]
  },
  {
   "cell_type": "markdown",
   "metadata": {
    "deletable": false,
    "editable": false,
    "nbgrader": {
     "cell_type": "markdown",
     "checksum": "50587a5f38ca39bf671e9d46d3e585bc",
     "grade": false,
     "grade_id": "cell-82e45d9f7e6cca92",
     "locked": true,
     "schema_version": 3,
     "solution": false,
     "task": false
    }
   },
   "source": [
    "<h2 style=\"color:rgb(0,120,170)\">Task 2: Random Forests and Feature importance</h2>\n",
    "\n",
    "In this task you will train a Random Forest (RF) Classifier on a subset of fashionMNIST. You should observe how these models can immediately give you useful information about feature importance, which is a very convenient property of RFs. \n",
    "\n",
    "* **Code 2.1**:\n",
    "    * Firstly, implement a function called `filter_dataset()` that filters the data set for the classes with labels 3 (dresses) and 8 (bags). You should create the filtered train data set from `X_train` and `y_train` and the test data set from `X_test` and `y_test`. <br>**Hint**: Masks provide a convenient solution to this task. \n",
    "    * After the filtering procedure the data samples corresponding to dresses should be labelled as 0 and the bags as 1.\n",
    "* **Code 2.2**:\n",
    "    * Your task now is to train a sklearn <a href=\"https://scikit-learn.org/stable/modules/generated/sklearn.ensemble.RandomForestClassifier.html\"> RandomForestClassifier</a> with the default parameters on the training data set. \n",
    "    * Then get the model's predictions for the test data set. Use the given seed as random_seed for the `RandomForestClassifier`.\n",
    "    * For this task, we ask you to implement the function `fit_predict()`. \n",
    "* **Code 2.3**:\n",
    "    * Now, by implementing the function `get_n_wrong_samples()`, compute and return the size of the test set and number of misclassified test samples.\n",
    "    * Furthermore, retrieve the misclassifed samples, their actual labels and the predicted labels from the classifier.\n",
    "    * Use your predictions to plot up to 20 test data sample(s) that were **missclassified** (there can be fewer than 20 misclassified samples as well):  \n",
    "* **Plot 2.4**:\n",
    "    * Within this part we will try to see the decision-making incentives of Random Forest.\n",
    "    To do this we ask you to implement the following tasks in the function `plot_heatmaps()`:<br>\n",
    "    <b>Hint:</b> In the following you will have to plot heatmaps, to do this you might want to take a look at seaborn (sns): <a href=\"https://seaborn.pydata.org/generated/seaborn.heatmap.html\">Seaborn heatmap</a>\n",
    "    <ol>\n",
    "    <li>Take your training dataset and split it into 2 parts: dresses and bags. <br>\n",
    "    Calculate the average of the features. Reshape the averages to 2D arrays of shape 28*28 and plot them as heatmaps.</li>\n",
    "    <li>From the average of dresses subtract the average of bags. Plot the result as a heatmap.</li>\n",
    "    <li>Define the feature importance of the previously trained RF classifier. Visualize it as a heatmap and don't forget to reshape it to 28*28.<br>\n",
    "    <b>Hint:</b> Check scikit-learn documentation to access feature importance.</li>\n",
    "    </ol> \n",
    "* **Question 2.5**:\n",
    "    * Finally, answer some questions about the results of the previous exercises. "
   ]
  },
  {
   "cell_type": "markdown",
   "metadata": {
    "deletable": false,
    "editable": false,
    "nbgrader": {
     "cell_type": "markdown",
     "checksum": "be789ac1d3d3c0a77e5080f617a60f07",
     "grade": false,
     "grade_id": "cell-d727041f1c007cce",
     "locked": true,
     "schema_version": 3,
     "solution": false,
     "task": false
    }
   },
   "source": [
    "<h3 style=\"color:rgb(210,90,80)\">Code 2.1 (15 Points):</h3>"
   ]
  },
  {
   "cell_type": "code",
   "execution_count": null,
   "metadata": {
    "deletable": false,
    "editable": false,
    "nbgrader": {
     "cell_type": "code",
     "checksum": "1c9985d0d9559b40456b9b36b3b0f83a",
     "grade": false,
     "grade_id": "cell-a8b26c91c746c63a",
     "locked": true,
     "schema_version": 3,
     "solution": false,
     "task": false
    },
    "slideshow": {
     "slide_type": ""
    },
    "tags": []
   },
   "outputs": [],
   "source": [
    "# Nothing to do here, just run the cell.\n",
    "import numpy as np\n",
    "from sklearn.ensemble import RandomForestClassifier\n",
    "from mnist_loader import MNIST\n",
    "import matplotlib.pyplot as plt\n",
    "import seaborn as sns\n",
    "# Set random seed to ensure reproducible runs\n",
    "RSEED = 10"
   ]
  },
  {
   "cell_type": "code",
   "execution_count": null,
   "metadata": {
    "deletable": false,
    "editable": false,
    "nbgrader": {
     "cell_type": "code",
     "checksum": "6ab711d22be6d60b368e31b12fe8510d",
     "grade": false,
     "grade_id": "cell-fb2d8a33106856b5",
     "locked": true,
     "schema_version": 3,
     "solution": false,
     "task": false
    },
    "slideshow": {
     "slide_type": ""
    },
    "tags": []
   },
   "outputs": [],
   "source": [
    "# Nothing to do here, just run the cell.\n",
    "data = MNIST('./dataset/')\n",
    "img_train, labels_train = data.load_training()\n",
    "X_train = np.array(img_train)\n",
    "y_train = np.array(labels_train)\n",
    "print(X_train.shape, y_train.shape)\n",
    "\n",
    "X_test, y_test = data.load_testing()\n",
    "X_test = np.array(X_test)\n",
    "y_test = np.array(y_test)\n",
    "print(X_test.shape, y_test.shape)"
   ]
  },
  {
   "cell_type": "code",
   "execution_count": null,
   "metadata": {
    "deletable": false,
    "editable": true,
    "nbgrader": {
     "cell_type": "code",
     "checksum": "4659e2cc6227dcdf8a88c5ce6d762b2a",
     "grade": false,
     "grade_id": "filter_dataset",
     "locked": false,
     "schema_version": 3,
     "solution": true,
     "task": false
    },
    "slideshow": {
     "slide_type": ""
    },
    "tags": []
   },
   "outputs": [],
   "source": [
    "def filter_dataset(X_train: np.ndarray, y_train: np.ndarray, X_test: np.ndarray, y_test: np.ndarray, labels_list: list[int, int]) -> tuple[np.ndarray, np.ndarray, np.ndarray, np.ndarray]:\n",
    "    \"\"\"This function filters the datasets w.r.t to given labels_list.\n",
    "    \n",
    "    So, in the end X_train and X_test only contain the samples with labels that are in labels_list and y_train and y_test only contain 2 labels (i.e. 0 and 1).\n",
    "\n",
    "    Parameters\n",
    "    ----------\n",
    "    X_train : np.ndarray\n",
    "        Training data matrix.\n",
    "    y_train : np.ndarray\n",
    "        Training labels vector.\n",
    "    X_test : np.ndarray\n",
    "        Test data matrix.\n",
    "    y_test : np.ndarray\n",
    "        Test labels vector.\n",
    "    labels_list : list[int, int]\n",
    "        List of length 2 which consists of integer labels.\n",
    "        \n",
    "    Returns\n",
    "    -------\n",
    "    tuple of np.ndarray\n",
    "        - X_train_filtered : np.ndarray\n",
    "            The train samples with either label \"Dress\" or \"Bag\".\n",
    "        - y_train_filtered : np.ndarray\n",
    "            The train label vector containing only 0s and 1s.\n",
    "        - X_test_filtered : np.ndarray \n",
    "            The train samples with either label \"Dress\" or \"Bag\".\n",
    "        - y_test_filtered : np.ndarray\n",
    "            The test label vector containing only 0s and 1s.\n",
    "    \"\"\"\n",
    "    # YOUR CODE HERE\n",
    "    raise NotImplementedError()"
   ]
  },
  {
   "cell_type": "code",
   "execution_count": null,
   "metadata": {
    "deletable": false,
    "editable": false,
    "nbgrader": {
     "cell_type": "code",
     "checksum": "d07fea38533b0ed7eec4c69f67f614ca",
     "grade": true,
     "grade_id": "filter_dataset_X_train",
     "locked": true,
     "points": 3.75,
     "schema_version": 3,
     "solution": false,
     "task": false
    },
    "slideshow": {
     "slide_type": ""
    },
    "tags": []
   },
   "outputs": [],
   "source": [
    "# DO NOT DELETE THIS CELL!\n",
    "X_train_testing = np.arange(10).reshape(10, -1)\n",
    "y_train_testing = np.concatenate((np.array([3]*2), np.array([8]*2), np.array([0]*2), np.array([2]*4)))\n",
    "X_test_testing = np.arange(20, 30).reshape(10, -1)\n",
    "y_test_testing = np.concatenate((np.array([2]*1), np.array([3]*4), np.array([0]*2), np.array([8]*1), np.array([0]*2)))\n",
    "\n",
    "X_train_filtered, y_train_filtered, X_test_filtered, y_test_filtered = filter_dataset(X_train_testing, y_train_testing, X_test_testing, y_test_testing, [3, 8])\n",
    "\n",
    "assert isinstance(X_train_filtered, np.ndarray), \"The filtered X_train matrix is not a np.ndarray!\"\n",
    "np.testing.assert_array_equal(X_train_filtered, np.array([[0], [1], [2], [3]]))"
   ]
  },
  {
   "cell_type": "code",
   "execution_count": null,
   "metadata": {
    "deletable": false,
    "editable": false,
    "nbgrader": {
     "cell_type": "code",
     "checksum": "8670084bea28ec7d0f7f3b8a906a179a",
     "grade": true,
     "grade_id": "filter_dataset_X_test",
     "locked": true,
     "points": 3.75,
     "schema_version": 3,
     "solution": false,
     "task": false
    }
   },
   "outputs": [],
   "source": [
    "# DO NOT DELETE THIS CELL!\n",
    "assert isinstance(y_train_filtered, np.ndarray), \"The filtered y_train vector is not a np.ndarray!\"\n",
    "np.testing.assert_array_equal(y_train_filtered, np.array([0, 0, 1, 1]))"
   ]
  },
  {
   "cell_type": "code",
   "execution_count": null,
   "metadata": {
    "deletable": false,
    "editable": false,
    "nbgrader": {
     "cell_type": "code",
     "checksum": "d31e77e61f107b4020bb3c331e4a5d34",
     "grade": true,
     "grade_id": "filter_dataset_y_train",
     "locked": true,
     "points": 3.75,
     "schema_version": 3,
     "solution": false,
     "task": false
    }
   },
   "outputs": [],
   "source": [
    "# DO NOT DELETE THIS CELL!\n",
    "assert isinstance(X_test_filtered, np.ndarray), \"The filtered X_test matrix is not a np.ndarray!\"\n",
    "np.testing.assert_array_equal(X_test_filtered, np.array([[21], [22], [23], [24], [27]]))"
   ]
  },
  {
   "cell_type": "code",
   "execution_count": null,
   "metadata": {
    "deletable": false,
    "editable": false,
    "nbgrader": {
     "cell_type": "code",
     "checksum": "da0c6ffdd06f774b4a0e24f61812dd94",
     "grade": true,
     "grade_id": "filter_dataset_y_test",
     "locked": true,
     "points": 3.75,
     "schema_version": 3,
     "solution": false,
     "task": false
    },
    "slideshow": {
     "slide_type": ""
    },
    "tags": []
   },
   "outputs": [],
   "source": [
    "# DO NOT DELETE THIS CELL!\n",
    "assert isinstance(y_test_filtered, np.ndarray), \"The filtered y_test vector is not a np.ndarray!\"\n",
    "np.testing.assert_array_equal(y_test_filtered, np.array([0, 0, 0, 0, 1]))"
   ]
  },
  {
   "cell_type": "code",
   "execution_count": null,
   "metadata": {
    "deletable": false,
    "editable": false,
    "nbgrader": {
     "cell_type": "code",
     "checksum": "d9b55adb1535c8c4ef101aeffbb0bce0",
     "grade": false,
     "grade_id": "cell-56b0c479a84c1fcb",
     "locked": true,
     "schema_version": 3,
     "solution": false,
     "task": false
    },
    "slideshow": {
     "slide_type": ""
    },
    "tags": []
   },
   "outputs": [],
   "source": [
    "# Nothing to do here, just run the cell.\n",
    "X_train_filtered, y_train_filtered, X_test_filtered, y_test_filtered = filter_dataset(X_train, y_train, X_test, y_test, [3, 8])"
   ]
  },
  {
   "cell_type": "markdown",
   "metadata": {
    "deletable": false,
    "editable": false,
    "nbgrader": {
     "cell_type": "markdown",
     "checksum": "96cf7f05b639bc10cbc396c9ebdf4f75",
     "grade": false,
     "grade_id": "cell-b9a925dbe80e48da",
     "locked": true,
     "schema_version": 3,
     "solution": false,
     "task": false
    }
   },
   "source": [
    "In the following we visualize a few randomly selected samples from our filtered training data:"
   ]
  },
  {
   "cell_type": "code",
   "execution_count": null,
   "metadata": {
    "deletable": false,
    "editable": false,
    "nbgrader": {
     "cell_type": "code",
     "checksum": "f837fe0f493342db3a90a5f35078c167",
     "grade": false,
     "grade_id": "cell-36d6b7f701286e94",
     "locked": true,
     "schema_version": 3,
     "solution": false,
     "task": false
    },
    "slideshow": {
     "slide_type": ""
    },
    "tags": []
   },
   "outputs": [],
   "source": [
    "# Nothing to do here, just run the cell.\n",
    "# A routine that you can use for plotting some of the data. \n",
    "arr = ['Dress', 'Bag'] # 0: Dress,  1: Bag\n",
    "a = np.random.randint(1,40,20)\n",
    "plt.figure(figsize=(20, 13))\n",
    "for n,i in enumerate(a):\n",
    "    plt.subplot(4, 5, n+1)\n",
    "    two_d = (np.reshape(X_train_filtered[i], (28, 28)) * 255).astype(np.uint8)\n",
    "    plt.title('Label: {0}'.format(arr[y_train_filtered[i]]))\n",
    "    plt.imshow(two_d, interpolation='nearest',cmap='gray')\n",
    "plt.subplots_adjust(hspace = 0.3)"
   ]
  },
  {
   "cell_type": "markdown",
   "metadata": {
    "deletable": false,
    "editable": false,
    "nbgrader": {
     "cell_type": "markdown",
     "checksum": "027a7efd806a74a76901c3b8a0c1361a",
     "grade": false,
     "grade_id": "cell-546b94613694df02",
     "locked": true,
     "schema_version": 3,
     "solution": false,
     "task": false
    },
    "slideshow": {
     "slide_type": ""
    },
    "tags": []
   },
   "source": [
    "<h3 style=\"color:rgb(210,90,80)\">Code 2.2 (5 Points):</h3>"
   ]
  },
  {
   "cell_type": "code",
   "execution_count": null,
   "metadata": {
    "deletable": false,
    "editable": true,
    "nbgrader": {
     "cell_type": "code",
     "checksum": "e0e25f13a67189419ef5981815251ea7",
     "grade": false,
     "grade_id": "fit_predict",
     "locked": false,
     "schema_version": 3,
     "solution": true,
     "task": false
    },
    "slideshow": {
     "slide_type": ""
    },
    "tags": []
   },
   "outputs": [],
   "source": [
    "def fit_predict(X_train: np.ndarray, y_train: np.ndarray, X_test: np.ndarray, seed: int) -> tuple[RandomForestClassifier, np.ndarray]:\n",
    "    \"\"\"Function fits a RandomForestClassifier on the training data and returns predictions on the test data as well as the fitted model.\n",
    "\n",
    "    Parameters\n",
    "    ----------\n",
    "    X_train : np.ndarray\n",
    "        Training data matrix.\n",
    "    y_train : np.ndarray\n",
    "        Training labels vector.\n",
    "    X_test : np.ndarray\n",
    "        Test data matrix.\n",
    "    seed : int\n",
    "        Random seed used for initializing the classifier.\n",
    "\n",
    "    Returns\n",
    "    -------\n",
    "    tuple of RandomForestClassifier, np.ndarray\n",
    "        - model : RandomForestClassifier\n",
    "            The fitted classifier.\n",
    "        - prediction : np.ndarray      \n",
    "            The prediction on the given test set.\n",
    "    \"\"\"\n",
    "    # YOUR CODE HERE\n",
    "    raise NotImplementedError()"
   ]
  },
  {
   "cell_type": "code",
   "execution_count": null,
   "metadata": {
    "deletable": false,
    "editable": false,
    "nbgrader": {
     "cell_type": "code",
     "checksum": "a391701909483d8198c797876a78598f",
     "grade": true,
     "grade_id": "fit_predict_test",
     "locked": true,
     "points": 5,
     "schema_version": 3,
     "solution": false,
     "task": false
    },
    "slideshow": {
     "slide_type": ""
    },
    "tags": []
   },
   "outputs": [],
   "source": [
    "# DO NOT DELETE THIS CELL!\n",
    "model, prediction = fit_predict(X_train[:1000], y_train[:1000], X_test[:1000], RSEED)\n",
    "assert isinstance(model, RandomForestClassifier), \"The fitted model is not a RandomForestClassifier!\"\n",
    "assert isinstance(prediction, np.ndarray), \"The prediction is not a np.ndarray!\"\n",
    "assert len(prediction) == 1000, \"The number of predictions is wrong!\"\n",
    "np.testing.assert_array_equal(prediction[:5], np.array([0, 1, 2, 2, 1]))\n",
    "np.testing.assert_array_equal(prediction[-5:], np.array([9, 2, 9, 4, 5]))"
   ]
  },
  {
   "cell_type": "code",
   "execution_count": null,
   "metadata": {
    "deletable": false,
    "editable": false,
    "nbgrader": {
     "cell_type": "code",
     "checksum": "658c4e334e82e66e2db40478ae963cbc",
     "grade": false,
     "grade_id": "cell-f6a369e5e55c170c",
     "locked": true,
     "schema_version": 3,
     "solution": false,
     "task": false
    },
    "slideshow": {
     "slide_type": ""
    },
    "tags": []
   },
   "outputs": [],
   "source": [
    "# Nothing to do here, just run the cell.\n",
    "model, prediction = fit_predict(X_train_filtered, y_train_filtered, X_test_filtered, RSEED)"
   ]
  },
  {
   "cell_type": "markdown",
   "metadata": {
    "deletable": false,
    "editable": false,
    "nbgrader": {
     "cell_type": "markdown",
     "checksum": "1ba446c91f413768b1e8efc50e1696fd",
     "grade": false,
     "grade_id": "cell-cac4b679b948e8c3",
     "locked": true,
     "schema_version": 3,
     "solution": false,
     "task": false
    },
    "slideshow": {
     "slide_type": ""
    },
    "tags": []
   },
   "source": [
    "<h3 style=\"color:rgb(210,90,80)\">Code 2.3 (15 Points):</h3>"
   ]
  },
  {
   "cell_type": "code",
   "execution_count": null,
   "metadata": {
    "deletable": false,
    "editable": true,
    "nbgrader": {
     "cell_type": "code",
     "checksum": "c35229594e4609011c9c5e61ef30fed8",
     "grade": false,
     "grade_id": "get_n_wrong_items",
     "locked": false,
     "schema_version": 3,
     "solution": true,
     "task": false
    },
    "slideshow": {
     "slide_type": ""
    },
    "tags": []
   },
   "outputs": [],
   "source": [
    "def get_n_wrong_samples(X_test: np.ndarray, y_test: np.ndarray, prediction: np.ndarray) -> tuple[int, int, np.ndarray, np.ndarray, np.ndarray]:\n",
    "    \"\"\"Calculates the size of the test set, number of misclassified samples, the samples that are misclassified,\n",
    "    the actual labels of the misclassified samples, and the predicted labels that are incorrect.\n",
    "    \n",
    "    Parameters\n",
    "    ----------\n",
    "    X_test : np.ndarray\n",
    "        Test data matrix.\n",
    "    y_test : np.ndarray\n",
    "        Test labels vector.\n",
    "    prediction : np.ndarray\n",
    "        The predicted labels vector from the model.\n",
    "    \n",
    "    Returns\n",
    "    -------\n",
    "    tuple of int, np.ndarray\n",
    "        - test_size : int\n",
    "            The size of the test set.\n",
    "        - num_wrong : int\n",
    "            The number of misclassified samples.\n",
    "        - wrong_samples : np.ndarray\n",
    "            The misclassified samples.\n",
    "        - wrong_labels : np.ndarray\n",
    "            The actual labels of the misclassified samples.\n",
    "        - wrong_predictions : np.ndarray\n",
    "            The predicted incorrect labels.\n",
    "    \"\"\"\n",
    "    # YOUR CODE HERE\n",
    "    raise NotImplementedError()"
   ]
  },
  {
   "cell_type": "code",
   "execution_count": null,
   "metadata": {
    "deletable": false,
    "editable": false,
    "nbgrader": {
     "cell_type": "code",
     "checksum": "b747a2499619f1e3d2b5d41343e1e9ef",
     "grade": true,
     "grade_id": "get_n_wrong_n_samples",
     "locked": true,
     "points": 1.5,
     "schema_version": 3,
     "solution": false,
     "task": false
    }
   },
   "outputs": [],
   "source": [
    "# DO NOT DELETE THIS CELL!\n",
    "test_size, num_wrong, wrong_samples, wrong_labels, wrong_predictions = get_n_wrong_samples(X_test_testing, y_test_testing, np.array([2, 1, 3, 3, 3, 0, 3, 8, 0, 4]))\n",
    "assert isinstance(test_size, int), \"The size of the test set is not an integer!\"\n",
    "assert test_size == 10, \"The size of the test set is incorrect!\""
   ]
  },
  {
   "cell_type": "code",
   "execution_count": null,
   "metadata": {
    "deletable": false,
    "editable": false,
    "nbgrader": {
     "cell_type": "code",
     "checksum": "dfb195e6988dc1790a42eab4c9c1e469",
     "grade": true,
     "grade_id": "get_n_wrong_num_wrong",
     "locked": true,
     "points": 1.5,
     "schema_version": 3,
     "solution": false,
     "task": false
    }
   },
   "outputs": [],
   "source": [
    "# DO NOT DELETE THIS CELL!\n",
    "assert isinstance(num_wrong, int), \"The number of misclassified samples is not an integer!\"\n",
    "assert num_wrong == 3, \"The number of misclassified samples is incorrect!\""
   ]
  },
  {
   "cell_type": "code",
   "execution_count": null,
   "metadata": {
    "deletable": false,
    "editable": false,
    "nbgrader": {
     "cell_type": "code",
     "checksum": "88d4aa7c8421aa1a11245150da2a5e1b",
     "grade": true,
     "grade_id": "get_n_wrong_samples",
     "locked": true,
     "points": 1.5,
     "schema_version": 3,
     "solution": false,
     "task": false
    }
   },
   "outputs": [],
   "source": [
    "# DO NOT DELETE THIS CELL!\n",
    "assert isinstance(wrong_samples, np.ndarray), \"The misclassified samples are not a np.ndarray!\"\n",
    "np.testing.assert_array_equal(wrong_samples, np.array([[21], [26], [29]]))"
   ]
  },
  {
   "cell_type": "code",
   "execution_count": null,
   "metadata": {
    "deletable": false,
    "editable": false,
    "nbgrader": {
     "cell_type": "code",
     "checksum": "32b8f3d53e2a132effc38e644b0d32db",
     "grade": true,
     "grade_id": "get_n_wrong_labels",
     "locked": true,
     "points": 1.5,
     "schema_version": 3,
     "solution": false,
     "task": false
    }
   },
   "outputs": [],
   "source": [
    "# DO NOT DELETE THIS CELL!\n",
    "assert isinstance(wrong_labels, np.ndarray), \"The misclassified labels are not a np.ndarray!\"\n",
    "np.testing.assert_array_equal(wrong_labels, np.array([3, 0, 0]))"
   ]
  },
  {
   "cell_type": "code",
   "execution_count": null,
   "metadata": {
    "deletable": false,
    "editable": false,
    "nbgrader": {
     "cell_type": "code",
     "checksum": "8087d5f1e335a35f1699962a11109bd2",
     "grade": true,
     "grade_id": "get_n_wrong_predictions",
     "locked": true,
     "points": 1.5,
     "schema_version": 3,
     "solution": false,
     "task": false
    }
   },
   "outputs": [],
   "source": [
    "# DO NOT DELETE THIS CELL!\n",
    "assert isinstance(wrong_predictions, np.ndarray), \"The misclassified predictions are not a np.ndarray!\"\n",
    "np.testing.assert_array_equal(wrong_predictions, np.array([1, 3, 4]))"
   ]
  },
  {
   "cell_type": "code",
   "execution_count": null,
   "metadata": {
    "deletable": false,
    "editable": false,
    "nbgrader": {
     "cell_type": "code",
     "checksum": "4d62070ce06fd539f5910f69e0c2cdd4",
     "grade": false,
     "grade_id": "cell-a769388d035346fb",
     "locked": true,
     "schema_version": 3,
     "solution": false,
     "task": false
    }
   },
   "outputs": [],
   "source": [
    "# Nothing to do here, just run the cell.\n",
    "size_test, num_wrong, wrong_samples, wrong_labels, wrong_predictions = get_n_wrong_samples(X_test_filtered, y_test_filtered, prediction)\n",
    "print(\"Number of test samples: {0}\\nNumber of misclassified samples: {1}\".format(size_test, num_wrong))"
   ]
  },
  {
   "cell_type": "code",
   "execution_count": null,
   "metadata": {
    "deletable": false,
    "editable": true,
    "nbgrader": {
     "cell_type": "code",
     "checksum": "70eaefe7aa283ce92f36c841bf74ec9c",
     "grade": true,
     "grade_id": "plot_wrong_predictions",
     "locked": false,
     "points": 7.5,
     "schema_version": 3,
     "solution": true,
     "task": false
    },
    "slideshow": {
     "slide_type": ""
    },
    "tags": []
   },
   "outputs": [],
   "source": [
    "def plot_wrong_predictions(wrong_samples: np.ndarray, wrong_labels: np.ndarray, wrong_predictions: np.ndarray):\n",
    "    \"\"\"Function plots a figure that shows misclassified samples with their predicted and actual label.\n",
    "\n",
    "    Parameters\n",
    "    ----------\n",
    "    wrong_samples : np.ndarray\n",
    "        The samples that got misclassified by the classifier.\n",
    "    wrong_labels : np.ndarray\n",
    "        The actual true labels of the misclassified samples.\n",
    "    wrong_predictions : np.ndarray\n",
    "        The predicted labels of the misclassified samples.\n",
    "    \"\"\"\n",
    "    # YOUR CODE HERE\n",
    "    raise NotImplementedError()"
   ]
  },
  {
   "cell_type": "code",
   "execution_count": null,
   "metadata": {
    "deletable": false,
    "editable": false,
    "nbgrader": {
     "cell_type": "code",
     "checksum": "a8951db262f9c515fe731f83446b3407",
     "grade": false,
     "grade_id": "cell-7ae35f83c3bf8a68",
     "locked": true,
     "schema_version": 3,
     "solution": false,
     "task": false
    },
    "slideshow": {
     "slide_type": ""
    },
    "tags": []
   },
   "outputs": [],
   "source": [
    "# Nothing to do here, just run the cell.\n",
    "plot_wrong_predictions(wrong_samples, wrong_labels, wrong_predictions)"
   ]
  },
  {
   "cell_type": "markdown",
   "metadata": {
    "deletable": false,
    "editable": false,
    "nbgrader": {
     "cell_type": "markdown",
     "checksum": "6c36034390c2bcd7304b019aadeba224",
     "grade": false,
     "grade_id": "cell-32dd7980fe7ed0ec",
     "locked": true,
     "schema_version": 3,
     "solution": false,
     "task": false
    },
    "slideshow": {
     "slide_type": ""
    },
    "tags": []
   },
   "source": [
    "<h3 style=\"color:rgb(210,90,80)\">Plot 2.4 (20 Points):</h3>"
   ]
  },
  {
   "cell_type": "code",
   "execution_count": null,
   "metadata": {
    "deletable": false,
    "editable": true,
    "nbgrader": {
     "cell_type": "code",
     "checksum": "47b429dd461a5192d622a2f1daedaa3e",
     "grade": true,
     "grade_id": "plot_heatmaps",
     "locked": false,
     "points": 20,
     "schema_version": 3,
     "solution": true,
     "task": false
    },
    "slideshow": {
     "slide_type": ""
    },
    "tags": []
   },
   "outputs": [],
   "source": [
    "def plot_heatmaps(X_train: np.ndarray, y_train: np.ndarray, model: RandomForestClassifier):\n",
    "    \"\"\"Create a plot as described in the task description above.\n",
    "\n",
    "    Parameters\n",
    "    ----------\n",
    "    X_train : np.ndarray\n",
    "        Training data matrix.\n",
    "    y_train : np.ndarray\n",
    "        Training labels vector.\n",
    "    model : RandomForestClassifier\n",
    "        Your already trained classifier.\n",
    "    \"\"\"\n",
    "    # YOUR CODE HERE\n",
    "    raise NotImplementedError()"
   ]
  },
  {
   "cell_type": "code",
   "execution_count": null,
   "metadata": {
    "deletable": false,
    "editable": false,
    "nbgrader": {
     "cell_type": "code",
     "checksum": "c4c6048e1bd49b3146edf77d323fa5c6",
     "grade": false,
     "grade_id": "cell-b82d6b3001f21237",
     "locked": true,
     "schema_version": 3,
     "solution": false,
     "task": false
    },
    "slideshow": {
     "slide_type": ""
    },
    "tags": []
   },
   "outputs": [],
   "source": [
    "# Nothing to do here, just run the cell.\n",
    "plot_heatmaps(X_train_filtered, y_train_filtered, model)"
   ]
  },
  {
   "attachments": {
    "f220682e-61d6-4d16-a7b6-188cb2748fd1.png": {
     "image/png": "[encoded data removed]"
    }
   },
   "cell_type": "markdown",
   "metadata": {
    "deletable": false,
    "editable": false,
    "nbgrader": {
     "cell_type": "markdown",
     "checksum": "3f6c161873c93ea54d7d2a99b6b58c2f",
     "grade": false,
     "grade_id": "cell-3b59446c6dce153e",
     "locked": true,
     "schema_version": 3,
     "solution": false,
     "task": false
    },
    "slideshow": {
     "slide_type": ""
    },
    "tags": []
   },
   "source": [
    "If you have solved the previous task correctly, the resulting plot should look close to this:<br>\n",
    "![a5.png](attachment:f220682e-61d6-4d16-a7b6-188cb2748fd1.png)"
   ]
  },
  {
   "cell_type": "markdown",
   "metadata": {
    "deletable": false,
    "editable": false,
    "nbgrader": {
     "cell_type": "markdown",
     "checksum": "f4e31ad422b46df2634860471b5d32f8",
     "grade": false,
     "grade_id": "cell-e5c65a9b9ac2048d",
     "locked": true,
     "schema_version": 3,
     "solution": false,
     "task": false
    },
    "slideshow": {
     "slide_type": ""
    },
    "tags": []
   },
   "source": [
    "<h3 style=\"color:rgb(210,90,80)\">Question 2.5 (5 Points):</h3>\n",
    "\n",
    "What observations can you make? \n",
    "<br>(Multiple answers might be correct)\n",
    "    \n",
    "a_) RF achieves an accuracy higher than 90% on the test set.<br>\n",
    "b_) The most important features are located in image regions that primarily show either only bags or dresses as depicted by the plots of average bags and dresses.<br>\n",
    "c_) If one pixel would always be bright for bags but never for dresses, the RF classifier would certainly learn to use only this pixel as a feature.<br>\n",
    "d_) Comparing the misclassified bags to other bags suggests that they might be outliers as they are rather tall, but not as long as most other bags.\n",
    "\n",
    "To answer the question, assign `True` or `False` boolean values to variables in the next cell. For example, if you think that **a_)** is correct, define a variable `a_` and set it to `True`, the same applies to **b_)** and the other options. A non-correctly answered question as well as no answer (i.e. answer “None”) yields 0 points for a specific question.<br>"
   ]
  },
  {
   "cell_type": "code",
   "execution_count": null,
   "metadata": {
    "deletable": false,
    "editable": true,
    "nbgrader": {
     "cell_type": "code",
     "checksum": "b432c162719f2eb3acdb9d6a08f23fa0",
     "grade": false,
     "grade_id": "question_2_5",
     "locked": false,
     "schema_version": 3,
     "solution": true,
     "task": false
    },
    "slideshow": {
     "slide_type": ""
    },
    "tags": []
   },
   "outputs": [],
   "source": [
    "# YOUR CODE HERE\n",
    "raise NotImplementedError()"
   ]
  },
  {
   "cell_type": "code",
   "execution_count": null,
   "metadata": {
    "deletable": false,
    "editable": false,
    "nbgrader": {
     "cell_type": "code",
     "checksum": "a1e2db986116e97b15eafcbfe615aeb6",
     "grade": true,
     "grade_id": "a",
     "locked": true,
     "points": 1.25,
     "schema_version": 3,
     "solution": false,
     "task": false
    }
   },
   "outputs": [],
   "source": [
    "# DO NOT DELETE THIS CELL!\n",
    "assert a_ is not None, \"Store True/False!\"\n",
    "assert a_ in [True, False], \"Invalid Answer!\""
   ]
  },
  {
   "cell_type": "code",
   "execution_count": null,
   "metadata": {
    "deletable": false,
    "editable": false,
    "nbgrader": {
     "cell_type": "code",
     "checksum": "93256c711795179648bb95480b0b2336",
     "grade": true,
     "grade_id": "b",
     "locked": true,
     "points": 1.25,
     "schema_version": 3,
     "solution": false,
     "task": false
    }
   },
   "outputs": [],
   "source": [
    "# DO NOT DELETE THIS CELL!\n",
    "assert b_ is not None, \"Store True/False!\"\n",
    "assert b_ in [True, False], \"Invalid Answer!\""
   ]
  },
  {
   "cell_type": "code",
   "execution_count": null,
   "metadata": {
    "deletable": false,
    "editable": false,
    "nbgrader": {
     "cell_type": "code",
     "checksum": "c36aa9f2901a73273dc046806b3ecbdf",
     "grade": true,
     "grade_id": "c",
     "locked": true,
     "points": 1.25,
     "schema_version": 3,
     "solution": false,
     "task": false
    }
   },
   "outputs": [],
   "source": [
    "# DO NOT DELETE THIS CELL!\n",
    "assert c_ is not None, \"Store True/False!\"\n",
    "assert c_ in [True, False], \"Invalid Answer!\""
   ]
  },
  {
   "cell_type": "code",
   "execution_count": null,
   "metadata": {
    "deletable": false,
    "editable": false,
    "nbgrader": {
     "cell_type": "code",
     "checksum": "61a95c64a53c0c4d399fd47929e64589",
     "grade": true,
     "grade_id": "d",
     "locked": true,
     "points": 1.25,
     "schema_version": 3,
     "solution": false,
     "task": false
    }
   },
   "outputs": [],
   "source": [
    "# DO NOT DELETE THIS CELL!\n",
    "assert d_ is not None, \"Store True/False!\"\n",
    "assert d_ in [True, False], \"Invalid Answer!\""
   ]
  }
 ],
 "metadata": {
  "kernelspec": {
   "display_name": "Python 3 (ipykernel)",
   "language": "python",
   "name": "python3"
  },
  "language_info": {
   "codemirror_mode": {
    "name": "ipython",
    "version": 3
   },
   "file_extension": ".py",
   "mimetype": "text/x-python",
   "name": "python",
   "nbconvert_exporter": "python",
   "pygments_lexer": "ipython3",
   "version": "3.11.10"
  }
 },
 "nbformat": 4,
 "nbformat_minor": 4
}
