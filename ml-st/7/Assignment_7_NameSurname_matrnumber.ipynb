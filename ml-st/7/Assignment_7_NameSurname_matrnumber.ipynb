{
 "cells": [
  {
   "cell_type": "markdown",
   "metadata": {
    "deletable": false,
    "editable": false,
    "nbgrader": {
     "cell_type": "markdown",
     "checksum": "d058f0d635d0cd87e57388ab04038674",
     "grade": false,
     "grade_id": "cell-14ae352d8f174522",
     "locked": true,
     "schema_version": 3,
     "solution": false,
     "task": false
    }
   },
   "source": [
    "<h1 style=\"color:rgb(0,120,170)\">Assignment 7: Neural Networks and a Glimpse at Pytorch </h1>"
   ]
  },
  {
   "cell_type": "markdown",
   "metadata": {
    "deletable": false,
    "editable": false,
    "nbgrader": {
     "cell_type": "markdown",
     "checksum": "520dc4cb5b118fe2298768cb53633b63",
     "grade": false,
     "grade_id": "cell-fc9a4b1ef5bff31e",
     "locked": true,
     "schema_version": 3,
     "solution": false,
     "task": false
    }
   },
   "source": [
    "<h2 style=\"color:rgb(0,120,170)\">Copyright and Fair Use</h2>\n",
    "\n",
    "This material, no matter whether in printed or electronic form,\n",
    "may be used for personal and non-commercial educational use\n",
    "only. Any reproduction of this material, no matter whether as a\n",
    "whole or in parts, no matter whether in printed or in electronic\n",
    "form, requires explicit prior acceptance of the authors."
   ]
  },
  {
   "cell_type": "markdown",
   "metadata": {
    "deletable": false,
    "editable": false,
    "nbgrader": {
     "cell_type": "markdown",
     "checksum": "75dcee3dd433ba562765ef1ae45b6620",
     "grade": false,
     "grade_id": "cell-ac959b5a978b0202",
     "locked": true,
     "schema_version": 3,
     "solution": false,
     "task": false
    },
    "slideshow": {
     "slide_type": ""
    },
    "tags": []
   },
   "source": [
    "<h2 style=\"color:rgb(0,120,170)\">Automatic Testing Guidelines</h2>\n",
    "\n",
    "Automatic unittesting requires you to submit a notebook which contains strictly defined objects.\n",
    "Strictness of definition consists of unified shapes, dtypes, variable names and more.\n",
    "\n",
    "Within the notebook, we provide detailed instruction which you should follow in order to maximise your final grade.\n",
    "\n",
    "**Name your notebook properly**, follow the pattern in the template name:\n",
    "\n",
    "**Assignment_N_NameSurname_matrnumber**\n",
    "<ol>\n",
    "    <li>N - number of assignment</li>\n",
    "    <li>NameSurname - your full name where every part of the name starts with a capital letter, no spaces</li>\n",
    "    <li>matrnumber - you student number on ID card (with k, potentially with a leading zero)</li>\n",
    "</ol>\n",
    "\n",
    "Don't add any cells but use the ones provided by us. All cells have a unique ID so that the unit test can find it, so please do not add or remove any cell!\n",
    "\n",
    "Always make sure that implemented functions have the correct output and given variables contain the correct data type. In the descriptions for every function you can find information on what datatype an output should have and you should stick to that in order to minimize conflicts with the unittest. Don't import any other packages than listed in the cell with the \"imports\" tag.\n",
    "\n",
    "Questions are usually multiple choice (except the task description says otherwise) and can be answered by changing the given variables to either \"True\" or \"False\". \"None\" is counted as a wrong answer in any case!\n",
    "\n",
    "**Note:** Never use variables you defined in another cell in your functions directly; always pass them to the function as a parameter. In the unitest, they won't be available either. If you want to make sure that everything is executable for the unittest, try executing cells/functions individually (instead of running the whole notebook)."
   ]
  },
  {
   "cell_type": "markdown",
   "metadata": {
    "deletable": false,
    "editable": false,
    "nbgrader": {
     "cell_type": "markdown",
     "checksum": "156646b698417d39fe5bcab4d5355c75",
     "grade": false,
     "grade_id": "cell-7e4ff90bcaa93bbd",
     "locked": true,
     "schema_version": 3,
     "solution": false,
     "task": false
    },
    "slideshow": {
     "slide_type": ""
    },
    "tags": []
   },
   "source": [
    "<h2 style=\"color:rgb(0,120,170)\">Task 1: The XOR Problem</h2>\n",
    "\n",
    "In this task we try to formalize the fact that a single layer neural network (NN) cannot solve the XOR problem, but a two layer network can. \n",
    "\n",
    "Let us assume that we only have four possible inputs $\\mathbf{x}_1 = (0,0)$,\n",
    "$\\mathbf{x}_2 = (1,0)$, $\\mathbf{x}_3 = (0,1)$, and $\\mathbf{x}_4 = (1,1)$ with the following labels $y_1=0$, $y_2=1$, $y_3=1$, and $y_4=0$, respectively. Note that this exactly describes the XOR function: it outputs 1 (=true) if and only if exactly one of the input components equals 1 (=true).\n",
    "\n",
    "* **Calculation 1.1**:\n",
    "    * As a first task show that if we use a linear network\n",
    "    $\n",
    "        g_1(\\mathbf{x};\\mathbf{w})= \\mathbf{x} \\cdot \\mathbf{w} = x^{(1)} w_1 + x^{(2)}  w_2,\n",
    "    $\n",
    "     it is impossible to find parameters $w_1$ and $w_2$\n",
    "      that solve this problem exactly.\n",
    "* **Calculaton 1.2**:\n",
    "    * Even by adding bias units or by applying a sigmoid, the problem cannot be solved. \n",
    "    However, as soon as we use a two-layer network with a simple non-linear activation function (ReLU):\n",
    "    \n",
    "    $$   \n",
    "    g_2(\\mathbf{x};\\mathbf{W}^{[1]}, \\mathbf{W}^{[2]}, \\mathbf{b})=  \\mathbf{W}^{[2]T} \\max(0,\\mathbf{W}^{[1]} \\mathbf{x} + \\mathbf{b}),\n",
    "    $$\n",
    "    \n",
    "    we can find parameters, that solve the problem. \n",
    "    * Precisely, show that $\\mathbf{W}^{[1]}=\\begin{pmatrix} 1 & 1 \\\\ 1 & 1 \\end{pmatrix}$,\n",
    "    $\\mathbf{b}=\\begin{pmatrix} 0 \\\\ -1 \\end{pmatrix}$, and $\\mathbf{W}^{[2]}=\\begin{pmatrix} 1 \\\\ -2 \\end{pmatrix}$ solve the problem\n",
    "    in an exact way. The transformation $\\max(0,\\mathbf{W}^{[1]} \\mathbf{x} + \\mathbf{b})$ has \n",
    "    mapped the points $ \\mathbf{x}_1,\\ldots,  \\mathbf{x}_4$ into a space, in which those data points are \n",
    "    linearly separable. "
   ]
  },
  {
   "cell_type": "markdown",
   "metadata": {
    "deletable": false,
    "editable": false,
    "nbgrader": {
     "cell_type": "markdown",
     "checksum": "c074236d4e17a63a5be33ad873e83e58",
     "grade": false,
     "grade_id": "cell-e689d07fb97f60a6",
     "locked": true,
     "schema_version": 3,
     "solution": false,
     "task": false
    },
    "slideshow": {
     "slide_type": ""
    },
    "tags": []
   },
   "source": [
    "<h3 style=\"color:rgb(210,90,80)\">Calculation 1.1 (10 Points):</h3>"
   ]
  },
  {
   "cell_type": "markdown",
   "metadata": {
    "deletable": false,
    "editable": true,
    "nbgrader": {
     "cell_type": "markdown",
     "checksum": "9e70887c6b6f0ad2d6967da18038deb4",
     "grade": true,
     "grade_id": "Calc_1_1",
     "locked": false,
     "points": 10,
     "schema_version": 3,
     "solution": true,
     "task": false
    },
    "slideshow": {
     "slide_type": ""
    },
    "tags": []
   },
   "source": [
    "YOUR ANSWER HERE"
   ]
  },
  {
   "cell_type": "markdown",
   "metadata": {
    "deletable": false,
    "editable": false,
    "nbgrader": {
     "cell_type": "markdown",
     "checksum": "5f5039a22f4ac0bc554c97d29186134c",
     "grade": false,
     "grade_id": "cell-9301b4f0649d048c",
     "locked": true,
     "schema_version": 3,
     "solution": false,
     "task": false
    },
    "slideshow": {
     "slide_type": ""
    },
    "tags": []
   },
   "source": [
    "<h3 style=\"color:rgb(210,90,80)\">Calculation 1.2 (15 Points):</h3>"
   ]
  },
  {
   "cell_type": "markdown",
   "metadata": {
    "deletable": false,
    "editable": true,
    "nbgrader": {
     "cell_type": "markdown",
     "checksum": "28b41af833752d6f3dd07261d3fe7e26",
     "grade": true,
     "grade_id": "calc_1_2",
     "locked": false,
     "points": 15,
     "schema_version": 3,
     "solution": true,
     "task": false
    },
    "slideshow": {
     "slide_type": ""
    },
    "tags": []
   },
   "source": [
    "YOUR ANSWER HERE"
   ]
  },
  {
   "attachments": {
    "NN_picture_cropped.jpg": {
     "image/jpeg": "[encoded data removed]"
    }
   },
   "cell_type": "markdown",
   "metadata": {
    "deletable": false,
    "editable": false,
    "nbgrader": {
     "cell_type": "markdown",
     "checksum": "e41052d0f37a5134716554654c9d4878",
     "grade": false,
     "grade_id": "cell-6d14d87f603f4fe3",
     "locked": true,
     "schema_version": 3,
     "solution": false,
     "task": false
    },
    "slideshow": {
     "slide_type": ""
    },
    "tags": []
   },
   "source": [
    "<h2 style=\"color:rgb(0,120,170)\">Task 2: Backpropagation of a Simple Neural Network</h2>\n",
    "\n",
    "Consider the following neural network (we try to adapt to the notation from the lecture):\n",
    "<div>\n",
    "<img src=\"attachment:NN_picture_cropped.jpg\" width=\"500\"/>\n",
    "</div>\n",
    "The preactivations of the hidden units are denoted as $s_3$, $s_4$ and $s_5$  from left to right, their activations as $a_3$, $a_4$ and $a_5$, respectively. In the hidden layer we use ReLU as activation function, i.e. $f_3(x)=f_4(x)=f_5(x)=\\text{ReLU}(x)$, and in the output layer the activation is the identity function. The preactivation of the output layer is denoted as $s_6$ and the output as $\\hat{y}$. The delta at the output is denoted as $\\delta_6$, and the hidden deltas as $\\delta_3$, $\\delta_4$ and $\\delta_5$ from left to right, respectively. The true label is $y=1$ and as loss function we use the mean-squared loss, i.e $L(y,\\hat{y})=\\frac12 (y-\\hat{y})^2$.\n",
    "\n",
    "* **Calculation 2**:\n",
    "    * Compute all outputs, preactivations, activations, and delta errors! Also compute $\\frac{\\partial L}{\\partial w_{32}}$. Write down formulas (not only the numerical result) that indicate your computations at least for $s_3$, $\\delta_3$ and $\\frac{\\partial L}{\\partial w_{32}}$."
   ]
  },
  {
   "cell_type": "markdown",
   "metadata": {
    "deletable": false,
    "editable": false,
    "nbgrader": {
     "cell_type": "markdown",
     "checksum": "313fda06b9dea2f272b72b2a7a9fcac6",
     "grade": false,
     "grade_id": "cell-fd8f9bbab549efb9",
     "locked": true,
     "schema_version": 3,
     "solution": false,
     "task": false
    },
    "slideshow": {
     "slide_type": ""
    },
    "tags": []
   },
   "source": [
    "<h3 style=\"color:rgb(210,90,80)\">Calculation 2 (25 Points):</h3>"
   ]
  },
  {
   "cell_type": "markdown",
   "metadata": {
    "deletable": false,
    "editable": true,
    "nbgrader": {
     "cell_type": "markdown",
     "checksum": "e8ea92dc5552acb854c6d08237635255",
     "grade": true,
     "grade_id": "calc_2",
     "locked": false,
     "points": 25,
     "schema_version": 3,
     "solution": true,
     "task": false
    },
    "slideshow": {
     "slide_type": ""
    },
    "tags": []
   },
   "source": [
    "YOUR ANSWER HERE"
   ]
  },
  {
   "cell_type": "markdown",
   "metadata": {
    "deletable": false,
    "editable": false,
    "nbgrader": {
     "cell_type": "markdown",
     "checksum": "4effd55e7b48a5f782d1c13008157d7e",
     "grade": false,
     "grade_id": "cell-8bdefba6d9f3ae70",
     "locked": true,
     "schema_version": 3,
     "solution": false,
     "task": false
    },
    "slideshow": {
     "slide_type": ""
    },
    "tags": []
   },
   "source": [
    "<h2 style=\"color:rgb(0,120,170)\">Task 3: Pytorch and a Visualization of the Vanishing Gradient Problem</h2>\n",
    "\n",
    "The aim of this task is to provide you with some familiarity with Pytorch, a Python-package which is nowadays heavily used for tasks that involve computations with neural networks. It has the nice feature that it incorporates automatic differentiation, so that you don't have to implement the backward pass for a NN any more. It also allows for transferring more involved experiments to GPUs easily, however, we won't need this nice feature here. We will again work with the Fashion MNIST data set, but this time we provide you with a Pytorch routine that can download it for you and even transforms it appropriately.\n",
    "\n",
    "* **Code 3.1**:\n",
    "    * Your first task is probably the easiest of the whole course as you just have to let the code run and plot some images. However, to this end you will need to install [PyTorch](https://pytorch.org/get-started/locally/) appropriately in your environment!\n",
    "* **Code 3.2**:\n",
    "    * Firstly, implement your first Artificial Neural Network (ANN) in this class. You will use a 3-hidden-layer NN with sigmoid activation here. As you should know from the lecture, sigmoid is not a very good choice as it induces vanishing gradients.\n",
    "    * To overcome this issue, create a second nework class in a similar way that again has the same three linear layers but instead uses the ReLU activation function which is known to prevent the gradients from vanishing.\n",
    "* **Code 3.2**:\n",
    "    * Now, use the provided functions `train` and `test` to train and test both of your networks. Afterwards, plot the returned gradient magnitudes!\n",
    "    * For this task, implement the function `train_and_test` that takes a given model and a hyperparameter dictionary and completes the aforementioned tasks. For the optimizer, you can use [SGD](https://pytorch.org/docs/stable/generated/torch.optim.SGD.html) and have a look at the `hyperparams` defined below\n",
    "* **Question 3.3**:\n",
    "    * Answer some questions about your results!  "
   ]
  },
  {
   "cell_type": "markdown",
   "metadata": {
    "deletable": false,
    "editable": false,
    "nbgrader": {
     "cell_type": "markdown",
     "checksum": "dbe19b58999215b790989d044f3b578e",
     "grade": false,
     "grade_id": "cell-ffdcaf2d696f6d44",
     "locked": true,
     "schema_version": 3,
     "solution": false,
     "task": false
    },
    "slideshow": {
     "slide_type": ""
    },
    "tags": []
   },
   "source": [
    "<h3 style=\"color:rgb(208,90,80)\">Code 3.1 (10 Points)</h3>"
   ]
  },
  {
   "cell_type": "code",
   "execution_count": null,
   "metadata": {
    "deletable": false,
    "editable": false,
    "nbgrader": {
     "cell_type": "code",
     "checksum": "5660a3e120641caaabfbcbd2483ece8a",
     "grade": true,
     "grade_id": "import_pytorch",
     "locked": true,
     "points": 10,
     "schema_version": 3,
     "solution": false,
     "task": false
    },
    "slideshow": {
     "slide_type": ""
    },
    "tags": []
   },
   "outputs": [],
   "source": [
    "# Nothing to do here, just run the cell.\n",
    "import torch\n",
    "import torch.nn as nn\n",
    "import torch.nn.functional as F\n",
    "import torch.optim as optim\n",
    "from torch.utils.data import DataLoader\n",
    "from torchvision import datasets, transforms\n",
    "import matplotlib.pyplot as plt\n",
    "import os"
   ]
  },
  {
   "cell_type": "code",
   "execution_count": null,
   "metadata": {
    "editable": true,
    "slideshow": {
     "slide_type": ""
    },
    "tags": []
   },
   "outputs": [],
   "source": [
    "# Here we collect the hyperparameters we are going to use (you can train for more epochs etc in case you want to).\n",
    "hyperparams = dict(batch_size=64, test_batch_size=1000, epochs=1, lr=0.01, momentum=0.5, seed=66)\n",
    "use_cuda = torch.cuda.is_available()\n",
    "use_mps = torch.backends.mps.is_available()\n",
    "device = torch.device('cuda' if use_cuda else 'mps' if use_mps else 'cpu')\n",
    "print(f\"Hyperparameters: {hyperparams}\")\n",
    "print(f\"Device: {device}\")"
   ]
  },
  {
   "cell_type": "code",
   "execution_count": null,
   "metadata": {
    "deletable": false,
    "editable": false,
    "nbgrader": {
     "cell_type": "code",
     "checksum": "fb9a417f9059234965c6f5ba65e265d9",
     "grade": false,
     "grade_id": "cell-7d347b8e5d944fc8",
     "locked": true,
     "schema_version": 3,
     "solution": false,
     "task": false
    },
    "slideshow": {
     "slide_type": ""
    },
    "tags": []
   },
   "outputs": [],
   "source": [
    "# Nothing to do here, just run the cell.\n",
    "# Data loader (downloads data automatically the first time).\n",
    "# 0.1307 and 0.3081 are the mean and the std computed on the training set.\n",
    "kwargs = {'num_workers': 1, 'pin_memory': True} if use_cuda else {}\n",
    "\n",
    "train_loader = DataLoader(\n",
    "    datasets.FashionMNIST(\n",
    "        os.path.join('.', 'data'),\n",
    "        train=True, download=True,\n",
    "        transform=transforms.Compose([transforms.ToTensor(), transforms.Normalize((0.1307,), (0.3081,))])),\n",
    "    batch_size=hyperparams[\"batch_size\"],\n",
    "    shuffle=True,\n",
    "    **kwargs\n",
    ")\n",
    "test_loader = DataLoader(\n",
    "    datasets.FashionMNIST(\n",
    "        os.path.join('.', 'data'),\n",
    "        train=False,\n",
    "        transform=transforms.Compose([transforms.ToTensor(), transforms.Normalize((0.1307,), (0.3081,))])),\n",
    "        batch_size=hyperparams[\"test_batch_size\"],\n",
    "    shuffle=False,\n",
    "    **kwargs\n",
    ")"
   ]
  },
  {
   "cell_type": "code",
   "execution_count": null,
   "metadata": {
    "deletable": false,
    "editable": false,
    "nbgrader": {
     "cell_type": "code",
     "checksum": "9963360bb87bc8a3b13408803edfb41f",
     "grade": false,
     "grade_id": "cell-99ccaa547ccfa666",
     "locked": true,
     "schema_version": 3,
     "solution": false,
     "task": false
    },
    "slideshow": {
     "slide_type": ""
    },
    "tags": []
   },
   "outputs": [],
   "source": [
    "# Nothing to do here, just run the cell.\n",
    "print(train_loader.dataset.targets.shape)\n",
    "print(train_loader.dataset.data.shape)\n",
    "input_dim = train_loader.dataset.data.shape[1]*train_loader.dataset.data.shape[2]\n",
    "print(\"Input dimension is {}.\".format(input_dim))\n",
    "output_dim = 10\n",
    "\n",
    "# Plot example images\n",
    "fig=plt.figure(figsize=(15,3))\n",
    "for image in range(20):\n",
    "    show_img = train_loader.dataset.data[image].numpy().reshape(28, 28)\n",
    "    fig.add_subplot(2,10,image+1)\n",
    "    plt.xticks([]),plt.yticks([])\n",
    "    plt.imshow(show_img, cmap='gray')\n",
    "plt.show()"
   ]
  },
  {
   "cell_type": "markdown",
   "metadata": {
    "deletable": false,
    "editable": false,
    "nbgrader": {
     "cell_type": "markdown",
     "checksum": "0101d9b87b02371c7020b4ef0dead02e",
     "grade": false,
     "grade_id": "cell-fb3a50026cbdc316",
     "locked": true,
     "schema_version": 3,
     "solution": false,
     "task": false
    }
   },
   "source": [
    "<h3 style=\"color:rgb(208,90,80)\">Code 3.2 (10 Points)</h3>\n",
    "\n",
    "Implement the `ANN_sigmoid` class that inherits from `nn.Module` according to the following table (if you have never built a NN using PyTorch, this might give you some help: [Building Models with PyTorch](https://pytorch.org/tutorials/beginner/introyt/modelsyt_tutorial.html)):\n",
    "\n",
    "| **Position** | **Element**          | **Comment**                        |\n",
    "|--------------|----------------------|-------------------------------------|\n",
    "| 0            | input               | Flatten the input to the size of `d_in`|\n",
    "| 1            | fully connected     | $512$ output features               |\n",
    "| 2            | sigmoid                | -                                   |\n",
    "| 3            | fully connected     | $1024$ output features               |\n",
    "| 4            | sigmoid                | -                                   |\n",
    "| 5            | fully connected     | $512$ output features               |\n",
    "| 6            | sigmoid                | -                                   |\n",
    "| 7            | fully connected     | `d_out` output features                |\n",
    "\n",
    "Implement the `ANN_relu` similar to `ANN_sigmoid` but with the ReLU activation function between linear layers:\n",
    "\n",
    "| **Position** | **Element**          | **Comment**                        |\n",
    "|--------------|----------------------|-------------------------------------|\n",
    "| 0            | input               | Flatten the input to the size of `d_in`|\n",
    "| 1            | fully connected     | $512$ output features               |\n",
    "| 2            | relu                | -                                   |\n",
    "| 3            | fully connected     | $1024$ output features               |\n",
    "| 4            | relu                | -                                   |\n",
    "| 5            | fully connected     | $512$ output features               |\n",
    "| 6            | relu                | -                                   |\n",
    "| 7            | fully connected     | `d_out` output features                |"
   ]
  },
  {
   "cell_type": "code",
   "execution_count": null,
   "metadata": {
    "deletable": false,
    "editable": true,
    "nbgrader": {
     "cell_type": "code",
     "checksum": "ae578cbfd0d098452d86b2264848286c",
     "grade": false,
     "grade_id": "ann_sigmoid",
     "locked": false,
     "schema_version": 3,
     "solution": true,
     "task": false
    },
    "slideshow": {
     "slide_type": ""
    },
    "tags": []
   },
   "outputs": [],
   "source": [
    "class ANN_sigmoid(nn.Module):\n",
    "    def __init__(self, d_in, d_out):\n",
    "        # YOUR CODE HERE\n",
    "        raise NotImplementedError()\n",
    "\n",
    "    def forward(self, x):\n",
    "        # YOUR CODE HERE\n",
    "        raise NotImplementedError()"
   ]
  },
  {
   "cell_type": "code",
   "execution_count": null,
   "metadata": {
    "deletable": false,
    "editable": false,
    "nbgrader": {
     "cell_type": "code",
     "checksum": "828c531180cf367e6303063ce4c8f88e",
     "grade": true,
     "grade_id": "ann_sigmoid_test",
     "locked": true,
     "points": 5,
     "schema_version": 3,
     "solution": false,
     "task": false
    }
   },
   "outputs": [],
   "source": [
    "# DO NOT DELETE OR EDIT THIS CELL!\n",
    "d_in = 784\n",
    "d_out = 10\n",
    "\n",
    "torch.manual_seed(hyperparams[\"seed\"])\n",
    "\n",
    "test_model = ANN_sigmoid(d_in, d_out)\n",
    "assert isinstance(test_model, nn.Module), \"Your model does not inherit from nn.Module!\"\n",
    "linear_layers = [layer for layer in test_model.modules() if isinstance(layer, nn.Linear)]\n",
    "assert len(linear_layers) == 4, \"Wrong number of linear layers!\"\n",
    "expected_dims = [\n",
    "        (d_in, 512),  \n",
    "        (512, 1024), \n",
    "        (1024, 512), \n",
    "        (512, d_out)\n",
    "    ]\n",
    "for linear_layer, (expected_in, expected_out) in zip(linear_layers, expected_dims):\n",
    "    assert linear_layer.in_features == expected_in, f\"Expected in_features={expected_in}, got {linear_layer.in_features}!\"\n",
    "    assert linear_layer.out_features == expected_out, f\"Expected out_features={expected_out}, got {linear_layer.out_features}!\"\n",
    "\n",
    "data, _ = next(iter(test_loader))\n",
    "torch.testing.assert_close(test_model(data[:2]), torch.tensor([[0.3537, 0.5558, 0.1939, -0.0044, 0.0700, -0.0687, 0.2242, -0.4975, 0.0686, -0.2119], [0.3567,  0.5539, 0.1965, -0.0021, 0.0705, -0.0674, 0.2192, -0.5005, 0.0655, -0.2142]]), atol=1e-4, rtol=1e-4)"
   ]
  },
  {
   "cell_type": "code",
   "execution_count": null,
   "metadata": {
    "deletable": false,
    "editable": true,
    "nbgrader": {
     "cell_type": "code",
     "checksum": "320a1a0e42905256f30c42fd5005f5dd",
     "grade": false,
     "grade_id": "ann_relu",
     "locked": false,
     "schema_version": 3,
     "solution": true,
     "task": false
    },
    "slideshow": {
     "slide_type": ""
    },
    "tags": []
   },
   "outputs": [],
   "source": [
    "class ANN_relu(nn.Module):\n",
    "    def __init__(self, d_in, d_out):\n",
    "        # YOUR CODE HERE\n",
    "        raise NotImplementedError()\n",
    "\n",
    "    def forward(self, x):\n",
    "        # YOUR CODE HERE\n",
    "        raise NotImplementedError()"
   ]
  },
  {
   "cell_type": "code",
   "execution_count": null,
   "metadata": {
    "deletable": false,
    "editable": false,
    "nbgrader": {
     "cell_type": "code",
     "checksum": "01a8c2a33c7247860ad9dc67780bc1e3",
     "grade": true,
     "grade_id": "ann_relu_test",
     "locked": true,
     "points": 5,
     "schema_version": 3,
     "solution": false,
     "task": false
    }
   },
   "outputs": [],
   "source": [
    "# DO NOT DELETE OR EDIT THIS CELL!\n",
    "d_in = 784\n",
    "d_out = 10\n",
    "\n",
    "torch.manual_seed(hyperparams[\"seed\"])\n",
    "\n",
    "test_model = ANN_relu(d_in, d_out)\n",
    "assert isinstance(test_model, nn.Module), \"Your model does not inherit from nn.Module!\"\n",
    "linear_layers = [layer for layer in test_model.modules() if isinstance(layer, nn.Linear)]\n",
    "assert len(linear_layers) == 4, \"Wrong number of linear layers!\"\n",
    "expected_dims = [\n",
    "        (d_in, 512),  \n",
    "        (512, 1024), \n",
    "        (1024, 512), \n",
    "        (512, d_out)\n",
    "    ]\n",
    "for linear_layer, (expected_in, expected_out) in zip(linear_layers, expected_dims):\n",
    "    assert linear_layer.in_features == expected_in, f\"Expected in_features={expected_in}, got {linear_layer.in_features}!\"\n",
    "    assert linear_layer.out_features == expected_out, f\"Expected out_features={expected_out}, got {linear_layer.out_features}!\"\n",
    "\n",
    "data, _ = next(iter(test_loader))\n",
    "torch.testing.assert_close(test_model(data[:2]), torch.tensor([[0.0143, 0.0178, 0.0555, -0.0060, 0.0667, 0.0119, 0.0641, -0.0007, -0.0232, -0.0485], [0.0806, 0.0433, 0.0496, -0.0265, 0.0924, 0.0328, 0.0222, -0.0572, -0.1343, -0.0696]]), atol=1e-4, rtol=1e-4)"
   ]
  },
  {
   "cell_type": "markdown",
   "metadata": {
    "deletable": false,
    "editable": false,
    "nbgrader": {
     "cell_type": "markdown",
     "checksum": "de3a1ce9d41447507206340ac7ab4609",
     "grade": false,
     "grade_id": "cell-3cb1c1fad01eedad",
     "locked": true,
     "schema_version": 3,
     "solution": false,
     "task": false
    }
   },
   "source": [
    "Next, we provide you with a routine for training a neural network with Pytorch. For each layer, it outputs a list where one entry indicates the averaged absolute sum of the gradient magnitudes of the activations for a particular mini batch of this particular layer. Note that the command `loss.backward()` automatically computes and stores the gradients of all the activations. It also prints accuracy and the loss value for each epoch."
   ]
  },
  {
   "cell_type": "code",
   "execution_count": null,
   "metadata": {
    "deletable": false,
    "editable": false,
    "nbgrader": {
     "cell_type": "code",
     "checksum": "6c7a82fd70241ec209e798a404a26b7b",
     "grade": false,
     "grade_id": "cell-4ab8e052047f15b9",
     "locked": true,
     "schema_version": 3,
     "solution": false,
     "task": false
    },
    "slideshow": {
     "slide_type": ""
    },
    "tags": []
   },
   "outputs": [],
   "source": [
    "# Nothing to do here, just run the cell.\n",
    "def train(model: nn.Module, train_loader: DataLoader, optimizer: optim.Optimizer, epoch: int) -> tuple[list, list, list]:\n",
    "    \"\"\"Train a model for a specific epoch on a given training dataloader.\n",
    "\n",
    "    Parameters\n",
    "    ----------\n",
    "    model : nn.Module\n",
    "        The neural network model to be trained.\n",
    "    train_loader : DataLoader\n",
    "        DataLoader providing the training dataset.\n",
    "    optimizer : optim.Optimizer\n",
    "        Optimizer used for updating model parameters.\n",
    "    epoch : int\n",
    "        The current epoch number, used for logging purposes.\n",
    "\n",
    "    Returns\n",
    "    -------\n",
    "    tuple[list, list, list]\n",
    "        A tuple containing three lists:\n",
    "        - grads1_list: List of average absolute gradients for `linear1` weights across batches.\n",
    "        - grads2_list: List of average absolute gradients for `linear2` weights across batches.\n",
    "        - grads3_list: List of average absolute gradients for `linear3` weights across batches.\n",
    "    \"\"\"\n",
    "    device = next(model.parameters()).device\n",
    "    model.train()\n",
    "    grads1_list = []\n",
    "    grads2_list = []\n",
    "    grads3_list = []\n",
    "    correct=0\n",
    "    for batch_idx, (data, target) in enumerate(train_loader):\n",
    "        data, target = data.to(device), target.to(device)\n",
    "        optimizer.zero_grad()\n",
    "        output = model(data)\n",
    "        loss = F.cross_entropy(output, target)\n",
    "        loss.backward()\n",
    "        \n",
    "        # This part of the code gets the weights in the different layers\n",
    "        grads = []\n",
    "        for layer in model.modules():\n",
    "            if isinstance(layer, nn.Linear):\n",
    "                abs_grads = abs(layer.weight.grad)\n",
    "                grads.append(torch.mean(abs_grads).item())\n",
    "\n",
    "        grads1_list.append(grads[0])\n",
    "        grads2_list.append(grads[1])\n",
    "        grads3_list.append(grads[2])\n",
    "        \n",
    "        optimizer.step()\n",
    "        if batch_idx % 100 == 0:\n",
    "            print('Train Epoch: {} [{}/{} ({:.0f}%)]\\tLoss: {:.6f}'.format(\n",
    "                epoch, batch_idx * len(data), len(train_loader.dataset),\n",
    "                100. * batch_idx / len(train_loader), loss.item()))\n",
    "        pred = output.max(1, keepdim=True)[1] # get the index of the max log-probability\n",
    "        correct += pred.eq(target.view_as(pred)).sum().item()\n",
    "        \n",
    "    print('\\nTraining set: Accuracy: {}/{} ({:.2f}%)\\n'.format(\n",
    "    correct, len(train_loader.dataset),\n",
    "    100. * correct / len(train_loader.dataset)))\n",
    "    \n",
    "    return grads1_list, grads2_list, grads3_list"
   ]
  },
  {
   "cell_type": "markdown",
   "metadata": {
    "deletable": false,
    "editable": false,
    "nbgrader": {
     "cell_type": "markdown",
     "checksum": "7d79eb7998a97db25c59db06c5db126d",
     "grade": false,
     "grade_id": "cell-86e87526b672bf96",
     "locked": true,
     "schema_version": 3,
     "solution": false,
     "task": false
    }
   },
   "source": [
    "Here is a similar routine for the test procedure."
   ]
  },
  {
   "cell_type": "code",
   "execution_count": null,
   "metadata": {
    "deletable": false,
    "editable": false,
    "nbgrader": {
     "cell_type": "code",
     "checksum": "b7b3d0a254bf96641b219b80e3e85879",
     "grade": false,
     "grade_id": "cell-4ecbf8a9e7da3633",
     "locked": true,
     "schema_version": 3,
     "solution": false,
     "task": false
    },
    "slideshow": {
     "slide_type": ""
    },
    "tags": []
   },
   "outputs": [],
   "source": [
    "# Nothing to do here, just run the cell.\n",
    "def test(model, test_loader):\n",
    "    \"\"\"Evaluate a trained model on a test dataset.\n",
    "\n",
    "    Parameters\n",
    "    ----------\n",
    "    model : nn.Module\n",
    "        The trained neural network model to evaluate.\n",
    "    test_loader : DataLoader\n",
    "        DataLoader providing the test dataset.\n",
    "    \"\"\"\n",
    "    device = next(model.parameters()).device\n",
    "    model.eval()\n",
    "    test_loss = 0\n",
    "    correct = 0\n",
    "    with torch.no_grad():\n",
    "        for data, target in test_loader:\n",
    "            data, target = data.to(device), target.to(device)\n",
    "            output = model(data)\n",
    "            test_loss += F.cross_entropy(output, target, reduction='sum').item() # sum up batch loss\n",
    "            pred = output.max(1, keepdim=True)[1] # get the index of the max log-probability\n",
    "            correct += pred.eq(target.view_as(pred)).sum().item()\n",
    "    test_loss /= len(test_loader.dataset)\n",
    "\n",
    "    print('\\nTest set: Average loss: {:.4f}, Accuracy: {}/{} ({:.2f}%)\\n'.format(\n",
    "        test_loss, correct, len(test_loader.dataset),\n",
    "        100. * correct / len(test_loader.dataset)))    "
   ]
  },
  {
   "cell_type": "markdown",
   "metadata": {
    "deletable": false,
    "editable": false,
    "nbgrader": {
     "cell_type": "markdown",
     "checksum": "55ed0adee98d8c985721a27c44bcfa08",
     "grade": false,
     "grade_id": "cell-42cdc5afc3a8e39c",
     "locked": true,
     "schema_version": 3,
     "solution": false,
     "task": false
    }
   },
   "source": [
    "<h3 style=\"color:rgb(208,90,80)\">Code 3.2 (20 Points)</h3>"
   ]
  },
  {
   "cell_type": "code",
   "execution_count": null,
   "metadata": {
    "deletable": false,
    "nbgrader": {
     "cell_type": "code",
     "checksum": "394a7b59907643afaf2a10bf505e8450",
     "grade": true,
     "grade_id": "train_and_test",
     "locked": false,
     "points": 20,
     "schema_version": 3,
     "solution": true,
     "task": false
    }
   },
   "outputs": [],
   "source": [
    "def train_and_test(model: nn.Module, hyperparameters: dict):\n",
    "    \"\"\"Train and evaluate a model using the specified hyperparameters.\n",
    "\n",
    "    Parameters\n",
    "    ----------\n",
    "    model : nn.Module\n",
    "        The neural network model to be trained and tested.\n",
    "    hyperparameters : dict\n",
    "        A dictionary containing hyperparameters for training, including:\n",
    "        - \"lr\" : float\n",
    "            The learning rate for the optimizer.\n",
    "        - \"momentum\" : float\n",
    "            The momentum factor for the optimizer.\n",
    "        - \"epochs\" : int\n",
    "            The number of epochs to train the model.\n",
    "    \"\"\"\n",
    "    # YOUR CODE HERE\n",
    "    raise NotImplementedError()"
   ]
  },
  {
   "cell_type": "code",
   "execution_count": null,
   "metadata": {
    "deletable": false,
    "editable": false,
    "nbgrader": {
     "cell_type": "code",
     "checksum": "9d9292f85d9de08de8af561bd7e4a758",
     "grade": false,
     "grade_id": "cell-d0198886bf658124",
     "locked": true,
     "schema_version": 3,
     "solution": false,
     "task": false
    }
   },
   "outputs": [],
   "source": [
    "# Nothing to do here, just run the cell.\n",
    "print(\"<<< Sigmoid >>>\\n\")\n",
    "model = ANN_sigmoid(input_dim, output_dim).to(device)\n",
    "train_and_test(model, hyperparams)"
   ]
  },
  {
   "cell_type": "code",
   "execution_count": null,
   "metadata": {
    "deletable": false,
    "editable": false,
    "nbgrader": {
     "cell_type": "code",
     "checksum": "e0ecd3bc938fe1608e70f0191d3b9c18",
     "grade": false,
     "grade_id": "cell-2e1d9f730af3db6e",
     "locked": true,
     "schema_version": 3,
     "solution": false,
     "task": false
    }
   },
   "outputs": [],
   "source": [
    "# Nothing to do here, just run the cell.\n",
    "print(\"<<< ReLU >>>\\n\")\n",
    "model = ANN_relu(input_dim, output_dim).to(device)\n",
    "train_and_test(model, hyperparams)"
   ]
  },
  {
   "cell_type": "markdown",
   "metadata": {
    "deletable": false,
    "editable": false,
    "nbgrader": {
     "cell_type": "markdown",
     "checksum": "df4d470b046a74b73e3967ad95679dfb",
     "grade": false,
     "grade_id": "cell-47fe86649a02d985",
     "locked": true,
     "schema_version": 3,
     "solution": false,
     "task": false
    }
   },
   "source": [
    "<h3 style=\"color:rgb(210,90,80)\">Question 3.3 (10 Points):</h3>\n",
    "\n",
    "Q: What observations for the Sigmoid network and the ReLU network can you make?\n",
    "\n",
    "a_)  The sigmoid network achieves a poor performance in only one epoch. <br>\n",
    "b_)  The means of magnitudes of the gradients for the sigmoid network are significantly higher for lower layers. This is an indication of the vanishing gradient problem. <br>\n",
    "c_)  One reason why the sigmoid network can lead to vanishing gradients might be that the derivative of the sigmoid does not exceed 1/4. <br>\n",
    "d_)  When you use the ReLU activation function, the resulting network achieves a much better performance compared to the sigmoid model in only one epoch. <br>\n",
    "e_) One reason why several well-known activation functions different from sigmoid can lead to more stable training can be the fact that their derivatives are always larger than 1.\n",
    "\n",
    "To answer the question, assign `True` or `False` boolean values to variables in the next cell. For example, if you think that **a_)** is correct, define a variable `a_` and set it to `True`, the same applies to **b_)** and the other options. A non-correctly answered question as well as no answer (i.e. answer “None”) yields 0 points for a specific question.<br>"
   ]
  },
  {
   "cell_type": "code",
   "execution_count": null,
   "metadata": {
    "deletable": false,
    "nbgrader": {
     "cell_type": "code",
     "checksum": "4288a6878f9b5225be1c7245ce987690",
     "grade": false,
     "grade_id": "question_3_3",
     "locked": false,
     "schema_version": 3,
     "solution": true,
     "task": false
    }
   },
   "outputs": [],
   "source": [
    "# YOUR CODE HERE\n",
    "raise NotImplementedError()"
   ]
  },
  {
   "cell_type": "code",
   "execution_count": null,
   "metadata": {
    "deletable": false,
    "editable": false,
    "nbgrader": {
     "cell_type": "code",
     "checksum": "7f707aaa95a909989644abd262f461c3",
     "grade": true,
     "grade_id": "a",
     "locked": true,
     "points": 2,
     "schema_version": 3,
     "solution": false,
     "task": false
    }
   },
   "outputs": [],
   "source": [
    "# DO NOT DELETE THIS CELL!\n",
    "assert a_ is not None, \"Store True/False!\"\n",
    "assert a_ in [True, False], \"Invalid Answer!\""
   ]
  },
  {
   "cell_type": "code",
   "execution_count": null,
   "metadata": {
    "deletable": false,
    "editable": false,
    "nbgrader": {
     "cell_type": "code",
     "checksum": "4a2db74e70f5e69bd9c438bfa17aad59",
     "grade": true,
     "grade_id": "b",
     "locked": true,
     "points": 2,
     "schema_version": 3,
     "solution": false,
     "task": false
    }
   },
   "outputs": [],
   "source": [
    "# DO NOT DELETE THIS CELL!\n",
    "assert b_ is not None, \"Store True/False!\"\n",
    "assert b_ in [True, False], \"Invalid Answer!\""
   ]
  },
  {
   "cell_type": "code",
   "execution_count": null,
   "metadata": {
    "deletable": false,
    "editable": false,
    "nbgrader": {
     "cell_type": "code",
     "checksum": "8cb3447653f7030e2e690c2290ffc500",
     "grade": true,
     "grade_id": "c",
     "locked": true,
     "points": 2,
     "schema_version": 3,
     "solution": false,
     "task": false
    }
   },
   "outputs": [],
   "source": [
    "# DO NOT DELETE THIS CELL!\n",
    "assert c_ is not None, \"Store True/False!\"\n",
    "assert c_ in [True, False], \"Invalid Answer!\""
   ]
  },
  {
   "cell_type": "code",
   "execution_count": null,
   "metadata": {
    "deletable": false,
    "editable": false,
    "nbgrader": {
     "cell_type": "code",
     "checksum": "9426c2b8e3df175854b7c1257bd03423",
     "grade": true,
     "grade_id": "d",
     "locked": true,
     "points": 2,
     "schema_version": 3,
     "solution": false,
     "task": false
    }
   },
   "outputs": [],
   "source": [
    "# DO NOT DELETE THIS CELL!\n",
    "assert d_ is not None, \"Store True/False!\"\n",
    "assert d_ in [True, False], \"Invalid Answer!\""
   ]
  },
  {
   "cell_type": "code",
   "execution_count": null,
   "metadata": {
    "deletable": false,
    "editable": false,
    "nbgrader": {
     "cell_type": "code",
     "checksum": "e8008b9d34f04231a6e381efde123d5e",
     "grade": true,
     "grade_id": "e",
     "locked": true,
     "points": 2,
     "schema_version": 3,
     "solution": false,
     "task": false
    }
   },
   "outputs": [],
   "source": [
    "# DO NOT DELETE THIS CELL!\n",
    "assert e_ is not None, \"Store True/False!\"\n",
    "assert e_ in [True, False], \"Invalid Answer!\""
   ]
  }
 ],
 "metadata": {
  "kernelspec": {
   "display_name": "Python 3 (ipykernel)",
   "language": "python",
   "name": "python3"
  },
  "language_info": {
   "codemirror_mode": {
    "name": "ipython",
    "version": 3
   },
   "file_extension": ".py",
   "mimetype": "text/x-python",
   "name": "python",
   "nbconvert_exporter": "python",
   "pygments_lexer": "ipython3",
   "version": "3.11.10"
  }
 },
 "nbformat": 4,
 "nbformat_minor": 4
}
