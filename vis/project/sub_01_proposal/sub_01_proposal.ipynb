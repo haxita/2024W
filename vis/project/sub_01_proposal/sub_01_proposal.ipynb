{
 "cells": [
  {
   "cell_type": "markdown",
   "id": "06fe92e2-ddd0-4a2a-a479-d7d6a7e7a85d",
   "metadata": {},
   "source": [
    "# Submission 1 &ndash; Proposal\n",
    "\n",
    "## Instructions\n",
    "\n",
    "- Fill out the *Team Information*, *Dataset Description* and *Hypotheses/Tasks* sections.\n",
    "- Make sure that this `.ipynb` file displays correctly in the GitHub file preview.\n",
    "- Push all required files before the deadline."
   ]
  },
  {
   "cell_type": "markdown",
   "id": "10010851-a1ba-474b-b165-748017334668",
   "metadata": {
    "tags": []
   },
   "source": [
    "---\n",
    "## Team Information"
   ]
  },
  {
   "cell_type": "markdown",
   "id": "d23dd551-b591-4365-8738-3d950ce8c46e",
   "metadata": {},
   "source": [
    "**Team Name:** Data Sculptors"
   ]
  },
  {
   "cell_type": "markdown",
   "id": "2ae4f196-e767-4a8b-ab00-075fe059f008",
   "metadata": {},
   "source": [
    "**Team Members:**\n",
    "- Ali Hojatnia\n",
    "- Alexander Aufreiter\n",
    "- Thomas Wageneder\n",
    "- Yisong Tang"
   ]
  },
  {
   "cell_type": "markdown",
   "id": "e48444d8-421f-49c0-bde8-4d7517b387fa",
   "metadata": {
    "tags": []
   },
   "source": [
    "---\n",
    "## Dataset Description\n",
    "\n",
    "Describe the dataset in your own words. What is it about? What are the attribtues? Why did you choose it? What makes it interesting? How big is? Where did you obtain it from?\n",
    "Use sentences or bullet points and no more than 250 words. Indicate the word count below."
   ]
  },
  {
   "cell_type": "markdown",
   "id": "13cf16a3",
   "metadata": {},
   "source": [
    "**Description:** We chose the _Student Performance Data Set_, which focuses on analyzing secondary school student achievement in two Portuguese schools, specifically in Mathematics and Portuguese language courses. It combines academic performance data (grades G1, G2, G3) with demographic, social, and school-related attributes gathered from school reports and questionnaires.\n",
    "\n",
    "- The dataset includes 32 attributes such as age, gender, family size, parental education, study habits, and extracurricular involvement. Behavioral factors like alcohol consumption, free time, and romantic relationships are also covered. Grades G1 and G2 correlate strongly with the final grade, G3, as they represent earlier evaluation periods.\n",
    "\n",
    "- We chose this dataset for its combination of academic, social, and demographic features, which provides opportunities for multifaceted analyses like predicting performance, understanding influencing factors, or identifying high-risk students. Its relevance to education makes it intriguing, as it bridges the gap between academics and broader social behaviors.\n",
    "\n",
    "- The dataset contains two separate files for Mathematics (395 records, ~56 KB) and Portuguese courses (649 records, ~92 KB)\n",
    "\n",
    "- We sourced the dataset from Kaggle (https://www.kaggle.com/datasets/impapan/student-performance-data-set), which originally references a study by Cortez and Silva [1] utilizing data mining techniques.\n",
    "\n",
    "[1] P. Cortez and A. Silva, “Using data mining to predict secondary school student performance,” EUROSIS, Jan. 2008."
   ]
  },
  {
   "cell_type": "markdown",
   "id": "800ab400",
   "metadata": {},
   "source": [
    "**Word count:** 206"
   ]
  },
  {
   "cell_type": "markdown",
   "id": "1342c4f0-3978-4c13-bb60-f5f5815009fe",
   "metadata": {},
   "source": [
    "---\n",
    "## Hypotheses/Tasks\n",
    "\n",
    "Describe what you plan to work on. You can either frame your plans as hypotheses about the dataset or as tasks that you wish to address with your visualizations. Be specific but concise. Each description should not be longer than two sentences. Indicate whether you framed your plans as hypotheses or tasks (use `**Hypothesis** / ~~Task~~` or `~~Hypothesis~~ / **Task**` in markdown)."
   ]
  },
  {
   "cell_type": "markdown",
   "id": "0ea83f81-efb3-44dc-873d-9a47c53de7cf",
   "metadata": {},
   "source": [
    "### A &ndash; Simple Hypotheses/Tasks"
   ]
  },
  {
   "cell_type": "markdown",
   "id": "24d69728-a81b-4c00-b292-a6ead0c36c55",
   "metadata": {},
   "source": [
    "#### A.1\n",
    "\n",
    "**Hypothesis** / ~~Task~~\n",
    "\n",
    "**Students Living Closer to School Perform Better Academically**\n",
    "\n",
    "Description:\n",
    "Students who live closer to school (traveltime = 1 or 2) tend to perform better academically (G1, G2, G3). This is attributed to factors such as better health (health), fewer absences (absences), a balanced social life (goout), reduced stress levels (indirectly measured by freetime and famrel), and more study time (studytime). These factors collectively contribute to higher academic achievement."
   ]
  },
  {
   "cell_type": "markdown",
   "id": "8bd9a189-89ff-490d-81f6-98cb9c515565",
   "metadata": {},
   "source": [
    "#### A.2\n",
    "\n",
    "**Hypothesis** / ~~Task~~\n",
    "\n",
    "**Gender Differences in Academic Performance**\n",
    "\n",
    "Description:\n",
    "Female students (sex = 'F') perform better academically (G3) than male students (sex = 'M').\n"
   ]
  },
  {
   "cell_type": "markdown",
   "id": "57435e11-867f-409c-964c-77e162e38d75",
   "metadata": {},
   "source": [
    "### B &ndash; Complex Hypotheses/Tasks"
   ]
  },
  {
   "cell_type": "markdown",
   "id": "eb295345-93fc-4dfb-8fec-dd37d8d34fba",
   "metadata": {},
   "source": [
    "### B.1\n",
    "\n",
    "**Hypothesis** / ~~Task~~\n",
    "\n",
    "**Combined Effect of Time Management, Family Environment, and Extracurricular Participation on Academic Performance**\n",
    "\n",
    "Description: \n",
    "Students with structured time management (studytime ≥ 3, freetime = 3), supportive family environments (famrel ≥ 4), and active participation in extracurricular activities (activities = 'yes') perform significantly better (G3) than those lacking in one or more of these factors."
   ]
  },
  {
   "cell_type": "markdown",
   "id": "fc3b54ae-77b0-45f3-960e-5e640b760b96",
   "metadata": {},
   "source": [
    "#### B.2\n",
    "\n",
    "**Hypothesis** / ~~Task~~\n",
    "\n",
    "**The Combined Effect of Parental Education and Occupation on Students’ Academic Performance**\n",
    "\n",
    "Description:\n",
    "The education levels of parents (Medu and Fedu) and their occupations (Mjob and Fjob) jointly influence students’ academic performance.\n",
    "We need to see different education combinations (Medu and Fedu) and occupation combinations (Mjob and Fjob) performs best, and analyze why.\n",
    "- Parental Education: Higher levels of education are associated with better academic outcomes (G1, G2, G3) due to better academic guidance and resource availability. \n",
    "- Parental Occupation: Certain professions (e.g., “teacher”) may indirectly support academic performance through better family support, relationship quality, and structured free time. Conversely, high-intensity occupations may negatively affect these factors.\n"
   ]
  },
  {
   "cell_type": "markdown",
   "id": "71286767",
   "metadata": {},
   "source": []
  }
 ],
 "metadata": {
  "kernelspec": {
   "display_name": "Python 3 (ipykernel)",
   "language": "python",
   "name": "python3"
  },
  "language_info": {
   "codemirror_mode": {
    "name": "ipython",
    "version": 3
   },
   "file_extension": ".py",
   "mimetype": "text/x-python",
   "name": "python",
   "nbconvert_exporter": "python",
   "pygments_lexer": "ipython3",
   "version": "3.12.3"
  }
 },
 "nbformat": 4,
 "nbformat_minor": 5
}
